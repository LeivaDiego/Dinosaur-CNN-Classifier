{
 "cells": [
  {
   "cell_type": "code",
   "execution_count": 25,
   "metadata": {},
   "outputs": [],
   "source": [
    "import tensorflow as tf\n",
    "from tensorflow import keras\n",
    "from keras import regularizers\n",
    "from keras.layers import Dense, Dropout, Flatten, Conv2D, MaxPooling2D, Activation, BatchNormalization\n",
    "from keras.preprocessing.image import ImageDataGenerator\n",
    "\n",
    "import os"
   ]
  },
  {
   "cell_type": "code",
   "execution_count": 26,
   "metadata": {},
   "outputs": [],
   "source": [
    "import numpy as np \n",
    "import matplotlib.pyplot as plt\n",
    "from PIL import Image"
   ]
  },
  {
   "cell_type": "code",
   "execution_count": 27,
   "metadata": {},
   "outputs": [],
   "source": [
    "TARGET_SIZE = (100, 100)"
   ]
  },
  {
   "cell_type": "markdown",
   "metadata": {},
   "source": [
    "## Data Augmentation "
   ]
  },
  {
   "cell_type": "code",
   "execution_count": 28,
   "metadata": {},
   "outputs": [],
   "source": [
    "datagen = ImageDataGenerator(\n",
    "    rescale=1./255,\n",
    "    rotation_range=0.2,\n",
    "    height_shift_range=0.2,\n",
    "    zoom_range=0.2,\n",
    "    horizontal_flip=True,\n",
    "    fill_mode='nearest',\n",
    "    brightness_range=[0.2, 1.5]\n",
    ")"
   ]
  },
  {
   "cell_type": "markdown",
   "metadata": {},
   "source": [
    "### Generator of train images"
   ]
  },
  {
   "cell_type": "code",
   "execution_count": 29,
   "metadata": {},
   "outputs": [
    {
     "name": "stdout",
     "output_type": "stream",
     "text": [
      "Found 400 images belonging to 5 classes.\n",
      "Number of batches:  13\n"
     ]
    }
   ],
   "source": [
    "data = os.path.join(os.getcwd(), 'dataset/mini_split/train')\n",
    "\n",
    "train_generator = datagen.flow_from_directory(   \n",
    "    data, \n",
    "    target_size=TARGET_SIZE,\n",
    "    batch_size=32,\n",
    "    class_mode='categorical',\n",
    "    color_mode='grayscale'\n",
    ")\n",
    "\n",
    "num_batches = len(train_generator)\n",
    "print(\"Number of batches: \", num_batches)"
   ]
  },
  {
   "cell_type": "markdown",
   "metadata": {},
   "source": [
    "### Generator of test images"
   ]
  },
  {
   "cell_type": "code",
   "execution_count": 30,
   "metadata": {},
   "outputs": [
    {
     "name": "stdout",
     "output_type": "stream",
     "text": [
      "Found 100 images belonging to 5 classes.\n",
      "Number of batches:  4\n"
     ]
    }
   ],
   "source": [
    "data = os.path.join(os.getcwd(), 'dataset/mini_split/test')\n",
    "\n",
    "test_generator = datagen.flow_from_directory(\n",
    "    data, \n",
    "    target_size=TARGET_SIZE,\n",
    "    batch_size=32,\n",
    "    class_mode='categorical',\n",
    "    color_mode='grayscale'\n",
    ")\n",
    "\n",
    "num_batches = len(test_generator)\n",
    "print(\"Number of batches: \", num_batches)"
   ]
  },
  {
   "cell_type": "markdown",
   "metadata": {},
   "source": [
    "Son 100 imagenes, de 100x100, en los 3 canales RGB."
   ]
  },
  {
   "cell_type": "markdown",
   "metadata": {},
   "source": [
    "## Modelo de Datos"
   ]
  },
  {
   "cell_type": "code",
   "execution_count": 31,
   "metadata": {},
   "outputs": [],
   "source": [
    "base_filters = 32\n",
    "w_regularizer = 1e-4"
   ]
  },
  {
   "cell_type": "code",
   "execution_count": 32,
   "metadata": {},
   "outputs": [
    {
     "name": "stdout",
     "output_type": "stream",
     "text": [
      "Model: \"sequential_2\"\n",
      "_________________________________________________________________\n",
      " Layer (type)                Output Shape              Param #   \n",
      "=================================================================\n",
      " conv2d_12 (Conv2D)          (None, 100, 100, 32)      320       \n",
      "                                                                 \n",
      " activation_12 (Activation)  (None, 100, 100, 32)      0         \n",
      "                                                                 \n",
      " batch_normalization_12 (Bat  (None, 100, 100, 32)     128       \n",
      " chNormalization)                                                \n",
      "                                                                 \n",
      " conv2d_13 (Conv2D)          (None, 100, 100, 64)      18496     \n",
      "                                                                 \n",
      " activation_13 (Activation)  (None, 100, 100, 64)      0         \n",
      "                                                                 \n",
      " batch_normalization_13 (Bat  (None, 100, 100, 64)     256       \n",
      " chNormalization)                                                \n",
      "                                                                 \n",
      " max_pooling2d_6 (MaxPooling  (None, 50, 50, 64)       0         \n",
      " 2D)                                                             \n",
      "                                                                 \n",
      " dropout_8 (Dropout)         (None, 50, 50, 64)        0         \n",
      "                                                                 \n",
      " conv2d_14 (Conv2D)          (None, 50, 50, 64)        36928     \n",
      "                                                                 \n",
      " activation_14 (Activation)  (None, 50, 50, 64)        0         \n",
      "                                                                 \n",
      " batch_normalization_14 (Bat  (None, 50, 50, 64)       256       \n",
      " chNormalization)                                                \n",
      "                                                                 \n",
      " dropout_9 (Dropout)         (None, 50, 50, 64)        0         \n",
      "                                                                 \n",
      " conv2d_15 (Conv2D)          (None, 50, 50, 64)        36928     \n",
      "                                                                 \n",
      " activation_15 (Activation)  (None, 50, 50, 64)        0         \n",
      "                                                                 \n",
      " batch_normalization_15 (Bat  (None, 50, 50, 64)       256       \n",
      " chNormalization)                                                \n",
      "                                                                 \n",
      " max_pooling2d_7 (MaxPooling  (None, 25, 25, 64)       0         \n",
      " 2D)                                                             \n",
      "                                                                 \n",
      " dropout_10 (Dropout)        (None, 25, 25, 64)        0         \n",
      "                                                                 \n",
      " conv2d_16 (Conv2D)          (None, 25, 25, 128)       73856     \n",
      "                                                                 \n",
      " activation_16 (Activation)  (None, 25, 25, 128)       0         \n",
      "                                                                 \n",
      " batch_normalization_16 (Bat  (None, 25, 25, 128)      512       \n",
      " chNormalization)                                                \n",
      "                                                                 \n",
      " conv2d_17 (Conv2D)          (None, 25, 25, 128)       147584    \n",
      "                                                                 \n",
      " activation_17 (Activation)  (None, 25, 25, 128)       0         \n",
      "                                                                 \n",
      " batch_normalization_17 (Bat  (None, 25, 25, 128)      512       \n",
      " chNormalization)                                                \n",
      "                                                                 \n",
      " max_pooling2d_8 (MaxPooling  (None, 12, 12, 128)      0         \n",
      " 2D)                                                             \n",
      "                                                                 \n",
      " dropout_11 (Dropout)        (None, 12, 12, 128)       0         \n",
      "                                                                 \n",
      " flatten_2 (Flatten)         (None, 18432)             0         \n",
      "                                                                 \n",
      " dense_2 (Dense)             (None, 5)                 92165     \n",
      "                                                                 \n",
      "=================================================================\n",
      "Total params: 408,197\n",
      "Trainable params: 407,237\n",
      "Non-trainable params: 960\n",
      "_________________________________________________________________\n"
     ]
    }
   ],
   "source": [
    "model = tf.keras.Sequential()\n",
    "\n",
    "# First layer\n",
    "model.add(Conv2D(filters=base_filters, kernel_size=(3,3), kernel_regularizer=regularizers.l2(w_regularizer), padding='same', activation='relu', input_shape=(100,100,1)))\n",
    "model.add(Activation('relu'))\n",
    "model.add(BatchNormalization())\n",
    "\n",
    "# Second layer\n",
    "model.add(Conv2D(filters=2*base_filters, kernel_size=(3,3), kernel_regularizer=regularizers.l2(w_regularizer), padding='same', activation='relu'))\n",
    "model.add(Activation('relu'))\n",
    "model.add(BatchNormalization())\n",
    "model.add(MaxPooling2D(pool_size=(2,2)))\n",
    "model.add(Dropout(0.3))\n",
    "\n",
    "# Third layer\n",
    "model.add(Conv2D(filters=2*base_filters, kernel_size=(3,3), kernel_regularizer=regularizers.l2(w_regularizer), padding='same', activation='relu'))\n",
    "model.add(Activation('relu'))\n",
    "model.add(BatchNormalization())\n",
    "model.add(Dropout(0.3))\n",
    "\n",
    "# Fourth layer\n",
    "model.add(Conv2D(filters=2*base_filters, kernel_size=(3,3), kernel_regularizer=regularizers.l2(w_regularizer), padding='same', activation='relu'))\n",
    "model.add(Activation('relu'))\n",
    "model.add(BatchNormalization())\n",
    "model.add(MaxPooling2D(pool_size=(2,2)))\n",
    "model.add(Dropout(0.4))\n",
    "\n",
    "# Fifth layer\n",
    "model.add(Conv2D(filters=3*base_filters, kernel_size=(3,3), kernel_regularizer=regularizers.l2(w_regularizer), padding='same', activation='relu'))\n",
    "model.add(Activation('relu'))\n",
    "model.add(BatchNormalization())\n",
    "\n",
    "# Sixth layer\n",
    "model.add(Conv2D(filters=3*base_filters, kernel_size=(3,3), kernel_regularizer=regularizers.l2(w_regularizer), padding='same', activation='relu'))\n",
    "model.add(Activation('relu'))\n",
    "model.add(BatchNormalization())\n",
    "model.add(MaxPooling2D(pool_size=(2,2)))\n",
    "model.add(Dropout(0.4))\n",
    "\n",
    "# Flatten the output\n",
    "model.add(Flatten())\n",
    "model.add(Dense(5, activation='softmax'))\n",
    "\n",
    "model.summary()\n"
   ]
  },
  {
   "cell_type": "code",
   "execution_count": 33,
   "metadata": {},
   "outputs": [],
   "source": [
    "model.compile(loss='categorical_crossentropy', optimizer='rmsprop', metrics=['accuracy'])"
   ]
  },
  {
   "cell_type": "code",
   "execution_count": 34,
   "metadata": {},
   "outputs": [
    {
     "name": "stdout",
     "output_type": "stream",
     "text": [
      "Epoch 1/100\n",
      "13/13 [==============================] - 1s 37ms/step - loss: 11.1076 - accuracy: 0.2425\n",
      "Epoch 2/100\n",
      "13/13 [==============================] - 0s 36ms/step - loss: 5.7975 - accuracy: 0.2775\n",
      "Epoch 3/100\n",
      "13/13 [==============================] - 0s 37ms/step - loss: 6.6965 - accuracy: 0.2775\n",
      "Epoch 4/100\n",
      "13/13 [==============================] - 0s 36ms/step - loss: 5.6024 - accuracy: 0.2800\n",
      "Epoch 5/100\n",
      "13/13 [==============================] - 0s 36ms/step - loss: 5.2096 - accuracy: 0.2825\n",
      "Epoch 6/100\n",
      "13/13 [==============================] - 0s 36ms/step - loss: 4.5246 - accuracy: 0.2950\n",
      "Epoch 7/100\n",
      "13/13 [==============================] - 1s 37ms/step - loss: 4.5557 - accuracy: 0.2900\n",
      "Epoch 8/100\n",
      "13/13 [==============================] - 1s 37ms/step - loss: 4.3500 - accuracy: 0.3475\n",
      "Epoch 9/100\n",
      "13/13 [==============================] - 1s 37ms/step - loss: 4.5826 - accuracy: 0.3600\n",
      "Epoch 10/100\n",
      "13/13 [==============================] - 1s 37ms/step - loss: 4.2782 - accuracy: 0.3150\n",
      "Epoch 11/100\n",
      "13/13 [==============================] - 1s 39ms/step - loss: 3.8942 - accuracy: 0.3250\n",
      "Epoch 12/100\n",
      "13/13 [==============================] - 1s 38ms/step - loss: 3.7328 - accuracy: 0.3050\n",
      "Epoch 13/100\n",
      "13/13 [==============================] - 1s 38ms/step - loss: 3.9311 - accuracy: 0.2800\n",
      "Epoch 14/100\n",
      "13/13 [==============================] - 1s 38ms/step - loss: 3.6642 - accuracy: 0.3575\n",
      "Epoch 15/100\n",
      "13/13 [==============================] - 1s 38ms/step - loss: 3.9062 - accuracy: 0.3225\n",
      "Epoch 16/100\n",
      "13/13 [==============================] - 1s 38ms/step - loss: 3.6148 - accuracy: 0.3400\n",
      "Epoch 17/100\n",
      "13/13 [==============================] - 1s 39ms/step - loss: 3.4004 - accuracy: 0.4100\n",
      "Epoch 18/100\n",
      "13/13 [==============================] - 1s 39ms/step - loss: 3.2764 - accuracy: 0.3425\n",
      "Epoch 19/100\n",
      "13/13 [==============================] - 1s 39ms/step - loss: 3.2486 - accuracy: 0.3825\n",
      "Epoch 20/100\n",
      "13/13 [==============================] - 1s 39ms/step - loss: 3.2210 - accuracy: 0.3600\n",
      "Epoch 21/100\n",
      "13/13 [==============================] - 1s 39ms/step - loss: 3.0477 - accuracy: 0.3825\n",
      "Epoch 22/100\n",
      "13/13 [==============================] - 1s 39ms/step - loss: 2.4334 - accuracy: 0.4625\n",
      "Epoch 23/100\n",
      "13/13 [==============================] - 1s 39ms/step - loss: 3.4082 - accuracy: 0.3875\n",
      "Epoch 24/100\n",
      "13/13 [==============================] - 1s 40ms/step - loss: 4.0559 - accuracy: 0.3900\n",
      "Epoch 25/100\n",
      "13/13 [==============================] - 1s 40ms/step - loss: 3.2349 - accuracy: 0.3700\n",
      "Epoch 26/100\n",
      "13/13 [==============================] - 1s 39ms/step - loss: 2.6037 - accuracy: 0.3875\n",
      "Epoch 27/100\n",
      "13/13 [==============================] - 1s 39ms/step - loss: 3.2114 - accuracy: 0.4000\n",
      "Epoch 28/100\n",
      "13/13 [==============================] - 1s 39ms/step - loss: 2.9139 - accuracy: 0.4500\n",
      "Epoch 29/100\n",
      "13/13 [==============================] - 1s 40ms/step - loss: 2.8326 - accuracy: 0.4225\n",
      "Epoch 30/100\n",
      "13/13 [==============================] - 1s 40ms/step - loss: 2.5203 - accuracy: 0.3900\n",
      "Epoch 31/100\n",
      "13/13 [==============================] - 1s 40ms/step - loss: 1.9710 - accuracy: 0.4225\n",
      "Epoch 32/100\n",
      "13/13 [==============================] - 1s 40ms/step - loss: 1.9834 - accuracy: 0.4675\n",
      "Epoch 33/100\n",
      "13/13 [==============================] - 1s 39ms/step - loss: 1.6050 - accuracy: 0.4325\n",
      "Epoch 34/100\n",
      "13/13 [==============================] - 1s 40ms/step - loss: 1.4908 - accuracy: 0.4625\n",
      "Epoch 35/100\n",
      "13/13 [==============================] - 1s 41ms/step - loss: 1.5096 - accuracy: 0.4850\n",
      "Epoch 36/100\n",
      "13/13 [==============================] - 1s 39ms/step - loss: 1.4843 - accuracy: 0.4975\n",
      "Epoch 37/100\n",
      "13/13 [==============================] - 1s 41ms/step - loss: 1.4353 - accuracy: 0.4850\n",
      "Epoch 38/100\n",
      "13/13 [==============================] - 1s 41ms/step - loss: 1.3740 - accuracy: 0.5150\n",
      "Epoch 39/100\n",
      "13/13 [==============================] - 1s 40ms/step - loss: 1.3317 - accuracy: 0.5325\n",
      "Epoch 40/100\n",
      "13/13 [==============================] - 1s 40ms/step - loss: 1.2916 - accuracy: 0.5300\n",
      "Epoch 41/100\n",
      "13/13 [==============================] - 1s 42ms/step - loss: 1.2434 - accuracy: 0.5625\n",
      "Epoch 42/100\n",
      "13/13 [==============================] - 1s 40ms/step - loss: 1.4084 - accuracy: 0.4800\n",
      "Epoch 43/100\n",
      "13/13 [==============================] - 1s 40ms/step - loss: 1.2620 - accuracy: 0.5550\n",
      "Epoch 44/100\n",
      "13/13 [==============================] - 1s 40ms/step - loss: 1.2540 - accuracy: 0.5550\n",
      "Epoch 45/100\n",
      "13/13 [==============================] - 1s 42ms/step - loss: 1.2129 - accuracy: 0.5500\n",
      "Epoch 46/100\n",
      "13/13 [==============================] - 1s 41ms/step - loss: 1.1424 - accuracy: 0.6000\n",
      "Epoch 47/100\n",
      "13/13 [==============================] - 1s 42ms/step - loss: 1.2591 - accuracy: 0.5375\n",
      "Epoch 48/100\n",
      "13/13 [==============================] - 1s 41ms/step - loss: 1.1338 - accuracy: 0.5950\n",
      "Epoch 49/100\n",
      "13/13 [==============================] - 1s 41ms/step - loss: 1.0554 - accuracy: 0.5725\n",
      "Epoch 50/100\n",
      "13/13 [==============================] - 1s 41ms/step - loss: 1.0781 - accuracy: 0.6175\n",
      "Epoch 51/100\n",
      "13/13 [==============================] - 1s 41ms/step - loss: 1.1573 - accuracy: 0.5950\n",
      "Epoch 52/100\n",
      "13/13 [==============================] - 1s 42ms/step - loss: 1.1216 - accuracy: 0.5725\n",
      "Epoch 53/100\n",
      "13/13 [==============================] - 1s 42ms/step - loss: 0.9932 - accuracy: 0.6200\n",
      "Epoch 54/100\n",
      "13/13 [==============================] - 1s 41ms/step - loss: 1.1181 - accuracy: 0.6150\n",
      "Epoch 55/100\n",
      "13/13 [==============================] - 1s 41ms/step - loss: 1.0089 - accuracy: 0.6375\n",
      "Epoch 56/100\n",
      "13/13 [==============================] - 1s 41ms/step - loss: 0.9977 - accuracy: 0.6500\n",
      "Epoch 57/100\n",
      "13/13 [==============================] - 1s 40ms/step - loss: 1.1779 - accuracy: 0.6150\n",
      "Epoch 58/100\n",
      "13/13 [==============================] - 1s 42ms/step - loss: 1.0747 - accuracy: 0.6100\n",
      "Epoch 59/100\n",
      "13/13 [==============================] - 1s 42ms/step - loss: 0.9027 - accuracy: 0.6700\n",
      "Epoch 60/100\n",
      "13/13 [==============================] - 1s 41ms/step - loss: 0.9522 - accuracy: 0.6700\n",
      "Epoch 61/100\n",
      "13/13 [==============================] - 1s 41ms/step - loss: 0.9701 - accuracy: 0.6700\n",
      "Epoch 62/100\n",
      "13/13 [==============================] - 1s 42ms/step - loss: 0.9190 - accuracy: 0.6625\n",
      "Epoch 63/100\n",
      "13/13 [==============================] - 1s 42ms/step - loss: 0.9240 - accuracy: 0.6450\n",
      "Epoch 64/100\n",
      "13/13 [==============================] - 1s 42ms/step - loss: 0.9723 - accuracy: 0.6550\n",
      "Epoch 65/100\n",
      "13/13 [==============================] - 1s 41ms/step - loss: 0.8802 - accuracy: 0.6900\n",
      "Epoch 66/100\n",
      "13/13 [==============================] - 1s 41ms/step - loss: 0.8695 - accuracy: 0.6725\n",
      "Epoch 67/100\n",
      "13/13 [==============================] - 1s 42ms/step - loss: 0.9127 - accuracy: 0.6800\n",
      "Epoch 68/100\n",
      "13/13 [==============================] - 1s 42ms/step - loss: 0.8908 - accuracy: 0.7000\n",
      "Epoch 69/100\n",
      "13/13 [==============================] - 1s 42ms/step - loss: 0.8767 - accuracy: 0.6850\n",
      "Epoch 70/100\n",
      "13/13 [==============================] - 1s 44ms/step - loss: 0.8946 - accuracy: 0.6700\n",
      "Epoch 71/100\n",
      "13/13 [==============================] - 1s 41ms/step - loss: 0.8883 - accuracy: 0.7000\n",
      "Epoch 72/100\n",
      "13/13 [==============================] - 1s 43ms/step - loss: 0.8470 - accuracy: 0.7075\n",
      "Epoch 73/100\n",
      "13/13 [==============================] - 1s 42ms/step - loss: 0.7509 - accuracy: 0.7575\n",
      "Epoch 74/100\n",
      "13/13 [==============================] - 1s 42ms/step - loss: 0.7804 - accuracy: 0.7200\n",
      "Epoch 75/100\n",
      "13/13 [==============================] - 1s 42ms/step - loss: 0.8664 - accuracy: 0.6975\n",
      "Epoch 76/100\n",
      "13/13 [==============================] - 1s 42ms/step - loss: 0.7734 - accuracy: 0.7350\n",
      "Epoch 77/100\n",
      "13/13 [==============================] - 1s 43ms/step - loss: 0.7871 - accuracy: 0.7450\n",
      "Epoch 78/100\n",
      "13/13 [==============================] - 1s 43ms/step - loss: 0.7400 - accuracy: 0.7700\n",
      "Epoch 79/100\n",
      "13/13 [==============================] - 1s 43ms/step - loss: 0.7636 - accuracy: 0.7225\n",
      "Epoch 80/100\n",
      "13/13 [==============================] - 1s 43ms/step - loss: 0.6915 - accuracy: 0.7575\n",
      "Epoch 81/100\n",
      "13/13 [==============================] - 1s 43ms/step - loss: 0.8181 - accuracy: 0.7100\n",
      "Epoch 82/100\n",
      "13/13 [==============================] - 1s 43ms/step - loss: 0.7285 - accuracy: 0.7700\n",
      "Epoch 83/100\n",
      "13/13 [==============================] - 1s 43ms/step - loss: 0.8236 - accuracy: 0.6950\n",
      "Epoch 84/100\n",
      "13/13 [==============================] - 1s 43ms/step - loss: 0.7410 - accuracy: 0.7300\n",
      "Epoch 85/100\n",
      "13/13 [==============================] - 1s 42ms/step - loss: 0.6397 - accuracy: 0.8025\n",
      "Epoch 86/100\n",
      "13/13 [==============================] - 1s 42ms/step - loss: 0.6727 - accuracy: 0.7700\n",
      "Epoch 87/100\n",
      "13/13 [==============================] - 1s 44ms/step - loss: 0.7720 - accuracy: 0.7275\n",
      "Epoch 88/100\n",
      "13/13 [==============================] - 1s 42ms/step - loss: 0.6852 - accuracy: 0.7900\n",
      "Epoch 89/100\n",
      "13/13 [==============================] - 1s 42ms/step - loss: 0.7208 - accuracy: 0.7550\n",
      "Epoch 90/100\n",
      "13/13 [==============================] - 1s 42ms/step - loss: 0.5719 - accuracy: 0.8250\n",
      "Epoch 91/100\n",
      "13/13 [==============================] - 1s 43ms/step - loss: 0.6749 - accuracy: 0.7725\n",
      "Epoch 92/100\n",
      "13/13 [==============================] - 1s 43ms/step - loss: 0.6942 - accuracy: 0.7750\n",
      "Epoch 93/100\n",
      "13/13 [==============================] - 1s 43ms/step - loss: 0.6502 - accuracy: 0.7750\n",
      "Epoch 94/100\n",
      "13/13 [==============================] - 1s 46ms/step - loss: 0.6044 - accuracy: 0.7825\n",
      "Epoch 95/100\n",
      "13/13 [==============================] - 1s 43ms/step - loss: 0.6164 - accuracy: 0.7800\n",
      "Epoch 96/100\n",
      "13/13 [==============================] - 1s 43ms/step - loss: 0.6770 - accuracy: 0.7650\n",
      "Epoch 97/100\n",
      "13/13 [==============================] - 1s 43ms/step - loss: 0.5295 - accuracy: 0.8175\n",
      "Epoch 98/100\n",
      "13/13 [==============================] - 1s 43ms/step - loss: 0.5730 - accuracy: 0.8275\n",
      "Epoch 99/100\n",
      "13/13 [==============================] - 1s 42ms/step - loss: 0.6336 - accuracy: 0.8025\n",
      "Epoch 100/100\n",
      "13/13 [==============================] - 1s 43ms/step - loss: 0.6052 - accuracy: 0.7850\n"
     ]
    }
   ],
   "source": [
    "hist = model.fit(train_generator, steps_per_epoch=len(train_generator), epochs=100, verbose=1)"
   ]
  },
  {
   "cell_type": "code",
   "execution_count": 35,
   "metadata": {},
   "outputs": [
    {
     "name": "stdout",
     "output_type": "stream",
     "text": [
      "4/4 [==============================] - 0s 19ms/step - loss: 1.3420 - accuracy: 0.6300\n",
      "\n",
      "Test accuracy: 0.6299999952316284\n",
      "\n",
      "Test loss: 1.3420087099075317\n"
     ]
    }
   ],
   "source": [
    "# Assuming test_images and test_labels are your testing data and labels\n",
    "test_loss, test_acc = model.evaluate(test_generator, verbose=1)\n",
    "\n",
    "print('\\nTest accuracy:', test_acc)\n",
    "print('\\nTest loss:', test_loss)"
   ]
  },
  {
   "cell_type": "markdown",
   "metadata": {},
   "source": [
    "## Save model "
   ]
  },
  {
   "cell_type": "code",
   "execution_count": 36,
   "metadata": {},
   "outputs": [],
   "source": [
    "# Save the model\n",
    "model.save('out/cnn2.keras')"
   ]
  }
 ],
 "metadata": {
  "kernelspec": {
   "display_name": "Python 3",
   "language": "python",
   "name": "python3"
  },
  "language_info": {
   "codemirror_mode": {
    "name": "ipython",
    "version": 3
   },
   "file_extension": ".py",
   "mimetype": "text/x-python",
   "name": "python",
   "nbconvert_exporter": "python",
   "pygments_lexer": "ipython3",
   "version": "3.9.2"
  }
 },
 "nbformat": 4,
 "nbformat_minor": 2
}
