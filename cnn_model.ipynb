{
 "cells": [
  {
   "cell_type": "markdown",
   "metadata": {},
   "source": [
    "# Convolutional Neural Network"
   ]
  },
  {
   "cell_type": "markdown",
   "metadata": {},
   "source": [
    "Construccion, afinamiento, entrenamiento y pruebas de una red neuronal convolucional clasificadora de images."
   ]
  },
  {
   "cell_type": "markdown",
   "metadata": {},
   "source": [
    "### Librearias"
   ]
  },
  {
   "cell_type": "code",
   "execution_count": 1,
   "metadata": {},
   "outputs": [],
   "source": [
    "# Librerias de TensorFlow y Keras para construccion de la red neuronal\n",
    "import tensorflow as tf\n",
    "from keras import regularizers\n",
    "from keras.layers import Dense, Dropout, Flatten, Conv2D, MaxPooling2D, Activation, BatchNormalization\n",
    "from keras.models import Sequential\n",
    "from keras.optimizers import Adam\n",
    "\n",
    "# Librerias para procesamiento y aumento de datos de imágenes\n",
    "from keras.preprocessing.image import ImageDataGenerator\n",
    "\n",
    "# Librerias para afinamiento de hiperparametros\n",
    "import keras_tuner as kt\n",
    "\n",
    "# Librerias para manejo de rutas y operaciones del sistema de archivos\n",
    "import os"
   ]
  },
  {
   "cell_type": "markdown",
   "metadata": {},
   "source": [
    "### Data Augmentation"
   ]
  },
  {
   "cell_type": "code",
   "execution_count": 2,
   "metadata": {},
   "outputs": [],
   "source": [
    "# Resolucion objetivo de las imagenes\n",
    "# 100x100 pixeles\n",
    "# 3 canales de color (RGB)\n",
    "target_size = (100, 100)"
   ]
  },
  {
   "cell_type": "code",
   "execution_count": 3,
   "metadata": {},
   "outputs": [],
   "source": [
    "data_generator = ImageDataGenerator(\n",
    "    rescale = 1./255,\n",
    "    rotation_range = 30,\n",
    "    width_shift_range = 0.1,\n",
    "    height_shift_range = 0.1,\n",
    "    shear_range = 0.2,\n",
    "    zoom_range = 0.2,\n",
    "    horizontal_flip=True,\n",
    "    fill_mode='nearest'\n",
    ")"
   ]
  },
  {
   "cell_type": "markdown",
   "metadata": {},
   "source": [
    "**Generador para imagenes de entrenamiento**"
   ]
  },
  {
   "cell_type": "code",
   "execution_count": 4,
   "metadata": {},
   "outputs": [
    {
     "name": "stdout",
     "output_type": "stream",
     "text": [
      "Found 210 images belonging to 3 classes.\n"
     ]
    },
    {
     "name": "stdout",
     "output_type": "stream",
     "text": [
      "Number of batches: 7\n"
     ]
    }
   ],
   "source": [
    "training_data = os.path.join(os.getcwd(), 'dataset/split/train')\n",
    "\n",
    "train_generator = data_generator.flow_from_directory(\n",
    "    training_data,\n",
    "    target_size = target_size,\n",
    "    batch_size = 32,\n",
    "    class_mode = 'categorical',\n",
    "    color_mode = 'grayscale'\n",
    ")\n",
    "\n",
    "train_batch_qty = len(train_generator)\n",
    "print(f\"Number of batches: {train_batch_qty}\")"
   ]
  },
  {
   "cell_type": "markdown",
   "metadata": {},
   "source": [
    "**Generador para imagenes de testeo**"
   ]
  },
  {
   "cell_type": "code",
   "execution_count": 5,
   "metadata": {},
   "outputs": [
    {
     "name": "stdout",
     "output_type": "stream",
     "text": [
      "Found 60 images belonging to 3 classes.\n",
      "Number of batches: 2\n"
     ]
    }
   ],
   "source": [
    "testing_data = os.path.join(os.getcwd(), 'dataset/split/test')\n",
    "\n",
    "test_generator = data_generator.flow_from_directory(\n",
    "    testing_data,\n",
    "    target_size = target_size,\n",
    "    batch_size = 32,\n",
    "    class_mode = 'categorical',\n",
    "    color_mode = 'grayscale'\n",
    ")\n",
    "\n",
    "test_batch_qty = len(test_generator)\n",
    "print(f\"Number of batches: {test_batch_qty}\")"
   ]
  },
  {
   "cell_type": "markdown",
   "metadata": {},
   "source": [
    "**Generador para imagenes de validacion**"
   ]
  },
  {
   "cell_type": "code",
   "execution_count": 6,
   "metadata": {},
   "outputs": [
    {
     "name": "stdout",
     "output_type": "stream",
     "text": [
      "Found 30 images belonging to 3 classes.\n",
      "Number of batches: 1\n"
     ]
    }
   ],
   "source": [
    "validation_data = os.path.join(os.getcwd(), 'dataset/split/val')\n",
    "\n",
    "valid_generator = data_generator.flow_from_directory(\n",
    "    validation_data,\n",
    "    target_size = target_size,\n",
    "    batch_size = 32,\n",
    "    class_mode = 'categorical',\n",
    "    color_mode = 'grayscale'\n",
    ")\n",
    "\n",
    "val_batch_qty = len(valid_generator)\n",
    "print(f\"Number of batches: {val_batch_qty}\")"
   ]
  },
  {
   "cell_type": "markdown",
   "metadata": {},
   "source": [
    "## Modelado de la Red Neronal"
   ]
  },
  {
   "cell_type": "markdown",
   "metadata": {},
   "source": [
    "### Construccion del Modelo"
   ]
  },
  {
   "cell_type": "code",
   "execution_count": 7,
   "metadata": {},
   "outputs": [
    {
     "name": "stdout",
     "output_type": "stream",
     "text": [
      "Number of classes: 3\n"
     ]
    }
   ],
   "source": [
    "# Cantidad de clases\n",
    "num_classes = len(train_generator.class_indices)\n",
    "print(f\"Number of classes: {num_classes}\")"
   ]
  },
  {
   "cell_type": "code",
   "execution_count": 8,
   "metadata": {},
   "outputs": [],
   "source": [
    "def build_model(hp):\n",
    "    model = Sequential()\n",
    "    \n",
    "    # Primera capa de Input convolucional (fija)\n",
    "    model.add(Conv2D(\n",
    "        filters=hp.Int('input_filter', min_value = 8, max_value = 256, step = 8),\n",
    "        kernel_size=hp.Choice('input_kernel', values=[3, 5]),\n",
    "        kernel_regularizer=regularizers.l2(hp.Float('input_l2_regularizer', 1e-5, 1e-1, sampling='log')),\n",
    "        padding='same',\n",
    "        activation='relu',\n",
    "        input_shape=(100, 100, 1)\n",
    "    ))\n",
    "    model.add(BatchNormalization())\n",
    "    \n",
    "    # Capas variables de convolucional, batch normalization, max pooling y dropout\n",
    "    for i in range(hp.Int('num_conv_layers', 1, 6)):\n",
    "        model.add(Conv2D(\n",
    "            filters=hp.Int(f'conv_{i}_filter', min_value = 8, max_value = 256, step = 8),\n",
    "            kernel_size=hp.Choice(f'conv_{i}_kernel', values=[3, 5]),\n",
    "            kernel_regularizer=regularizers.l2(hp.Float('l2_regularizer', 1e-5, 1e-1, sampling='log')),\n",
    "            padding='same',\n",
    "            activation='relu'\n",
    "        ))\n",
    "        # Hiperparámetro booleano para BatchNormalization\n",
    "        if hp.Boolean(f'batch_norm_{i}'):\n",
    "            model.add(BatchNormalization())\n",
    "            \n",
    "        # Hiperparámetro booleano para MaxPooling2D\n",
    "        if hp.Boolean(f'pooling_{i}'):\n",
    "            model.add(MaxPooling2D(pool_size=(2, 2)))\n",
    "\n",
    "        # Hiperparámetro booleano para Dropout\n",
    "        if hp.Boolean(f'dropout_{i}'):\n",
    "            model.add(Dropout(hp.Float(f'dropout_rate_{i}', 0.1, 0.7, step=0.1)))\n",
    "    \n",
    "\n",
    "    # Capas de aplanamiento (fija)\n",
    "    model.add(Flatten())\n",
    "  \n",
    "    # Capa densa (fijas)\n",
    "    model.add(Dense(num_classes, activation='softmax'))\n",
    "\n",
    "    # Selección del optimizador y su tasa de aprendizaje como hiperparámetros\n",
    "    optimizer_choice = hp.Choice('optimizer', values=['adam', 'rmsprop', 'sgd'])\n",
    "    if optimizer_choice == 'adam':\n",
    "        optimizer = tf.keras.optimizers.Adam(\n",
    "            learning_rate=hp.Choice('adam_learning_rate', values=[1e-2, 1e-3, 1e-4])\n",
    "        )\n",
    "    elif optimizer_choice == 'rmsprop':\n",
    "        optimizer = tf.keras.optimizers.RMSprop(\n",
    "            learning_rate=hp.Choice('rmsprop_learning_rate', values=[1e-2, 1e-3, 1e-4])\n",
    "        )\n",
    "    elif optimizer_choice == 'sgd':\n",
    "        optimizer = tf.keras.optimizers.SGD(\n",
    "            learning_rate=hp.Choice('sgd_learning_rate', values=[1e-2, 1e-3, 1e-4])\n",
    "        )\n",
    "\n",
    "    # Compilación del modelo\n",
    "    model.compile(\n",
    "        optimizer = optimizer,\n",
    "        loss='categorical_crossentropy',\n",
    "        metrics=['accuracy']\n",
    "    )\n",
    "    return model"
   ]
  },
  {
   "cell_type": "markdown",
   "metadata": {},
   "source": [
    "### Tuning del modelo con Keras Tuner"
   ]
  },
  {
   "cell_type": "code",
   "execution_count": 9,
   "metadata": {},
   "outputs": [],
   "source": [
    "# Crear los afinadores de hiperparametros\n",
    "\n",
    "# Afinador de busqueda aleatoria\n",
    "random_tuner = kt.RandomSearch(\n",
    "    build_model,\n",
    "    objective='val_accuracy',\n",
    "    max_trials=50,\n",
    "    executions_per_trial=1,\n",
    "    directory='tuner',\n",
    "    project_name='random_tuner'\n",
    ")\n",
    "\n",
    "# Afinador de Hyperband\n",
    "hyper_tuner = kt.Hyperband(\n",
    "    build_model,\n",
    "    objective='val_accuracy',\n",
    "    max_epochs=50,\n",
    "    factor=3,\n",
    "    directory='tuner',\n",
    "    project_name='hyper_tuner'\n",
    ")\n",
    "\n",
    "# Afinador de busqueda bayesiana\n",
    "bayes_tuner = kt.BayesianOptimization(\n",
    "    build_model,\n",
    "    objective='val_accuracy',\n",
    "    max_trials=50,\n",
    "    executions_per_trial=1,\n",
    "    directory='tuner',\n",
    "    project_name='bayes_tuner'\n",
    ")\n"
   ]
  },
  {
   "cell_type": "markdown",
   "metadata": {},
   "source": [
    "**Callback para optimizacion de busqueda de hiperparametros**"
   ]
  },
  {
   "cell_type": "code",
   "execution_count": 10,
   "metadata": {},
   "outputs": [],
   "source": [
    "# Callbacks para detener el entrenamiento si no hay mejora despues de 5 epocas\n",
    "stop_early = tf.keras.callbacks.EarlyStopping(monitor='val_loss', patience=5)"
   ]
  },
  {
   "cell_type": "code",
   "execution_count": 11,
   "metadata": {},
   "outputs": [
    {
     "name": "stdout",
     "output_type": "stream",
     "text": [
      "Trial 50 Complete [00h 00m 28s]\n",
      "val_accuracy: 0.36666667461395264\n",
      "\n",
      "Best val_accuracy So Far: 0.6333333253860474\n",
      "Total elapsed time: 00h 24m 03s\n"
     ]
    }
   ],
   "source": [
    "# Buscar los mejores hiperparametros con el afinador de busqueda aleatoria\n",
    "random_tuner.search(train_generator, epochs=50, validation_data = valid_generator, callbacks=[stop_early])\n",
    "\n",
    "# Obtener los mejores hiperparametros encontrados por el afinador de busqueda aleatoria\n",
    "best_random_hps = random_tuner.get_best_hyperparameters(num_trials=1)[0]"
   ]
  },
  {
   "cell_type": "code",
   "execution_count": 12,
   "metadata": {},
   "outputs": [
    {
     "name": "stdout",
     "output_type": "stream",
     "text": [
      "Trial 90 Complete [00h 00m 17s]\n",
      "val_accuracy: 0.3333333432674408\n",
      "\n",
      "Best val_accuracy So Far: 0.5666666626930237\n",
      "Total elapsed time: 00h 34m 30s\n"
     ]
    }
   ],
   "source": [
    "# Buscar los mejores hiperparametros con el afinador de Hyperband\n",
    "hyper_tuner.search(train_generator, epochs=50, validation_data = valid_generator, callbacks=[stop_early])\n",
    "# Obtener los mejores hiperparametros encontrados por el afinador de Hyperband\n",
    "best_hyper_hps = hyper_tuner.get_best_hyperparameters(num_trials=1)[0]"
   ]
  },
  {
   "cell_type": "code",
   "execution_count": 13,
   "metadata": {},
   "outputs": [
    {
     "name": "stdout",
     "output_type": "stream",
     "text": [
      "Trial 50 Complete [00h 00m 56s]\n",
      "val_accuracy: 0.46666666865348816\n",
      "\n",
      "Best val_accuracy So Far: 0.5333333611488342\n",
      "Total elapsed time: 00h 32m 38s\n"
     ]
    }
   ],
   "source": [
    "# Buscar los mejores hiperparametros con el afinador de busqueda bayesiana\n",
    "bayes_tuner.search(train_generator, epochs=50, validation_data = valid_generator, callbacks=[stop_early])\n",
    "# Obtener los mejores hiperparametros encontrados por el afinador de busqueda bayesiana\n",
    "best_bayes_hps = bayes_tuner.get_best_hyperparameters(num_trials=1)[0]"
   ]
  },
  {
   "cell_type": "markdown",
   "metadata": {},
   "source": [
    "#### Resumen del Modelo ideal encontrado"
   ]
  },
  {
   "cell_type": "code",
   "execution_count": 14,
   "metadata": {},
   "outputs": [
    {
     "name": "stdout",
     "output_type": "stream",
     "text": [
      "Model: \"sequential_1\"\n",
      "_________________________________________________________________\n",
      " Layer (type)                Output Shape              Param #   \n",
      "=================================================================\n",
      " conv2d_2 (Conv2D)           (None, 100, 100, 8)       208       \n",
      "                                                                 \n",
      " batch_normalization_2 (Batc  (None, 100, 100, 8)      32        \n",
      " hNormalization)                                                 \n",
      "                                                                 \n",
      " conv2d_3 (Conv2D)           (None, 100, 100, 128)     25728     \n",
      "                                                                 \n",
      " conv2d_4 (Conv2D)           (None, 100, 100, 16)      51216     \n",
      "                                                                 \n",
      " max_pooling2d (MaxPooling2D  (None, 50, 50, 16)       0         \n",
      " )                                                               \n",
      "                                                                 \n",
      " conv2d_5 (Conv2D)           (None, 50, 50, 128)       18560     \n",
      "                                                                 \n",
      " max_pooling2d_1 (MaxPooling  (None, 25, 25, 128)      0         \n",
      " 2D)                                                             \n",
      "                                                                 \n",
      " dropout (Dropout)           (None, 25, 25, 128)       0         \n",
      "                                                                 \n",
      " flatten_1 (Flatten)         (None, 80000)             0         \n",
      "                                                                 \n",
      " dense_1 (Dense)             (None, 3)                 240003    \n",
      "                                                                 \n",
      "=================================================================\n",
      "Total params: 335,747\n",
      "Trainable params: 335,731\n",
      "Non-trainable params: 16\n",
      "_________________________________________________________________\n"
     ]
    }
   ],
   "source": [
    "random_model = random_tuner.hypermodel.build(best_random_hps)\n",
    "random_model.summary()"
   ]
  },
  {
   "cell_type": "code",
   "execution_count": 15,
   "metadata": {},
   "outputs": [
    {
     "name": "stdout",
     "output_type": "stream",
     "text": [
      "Model: \"sequential_2\"\n",
      "_________________________________________________________________\n",
      " Layer (type)                Output Shape              Param #   \n",
      "=================================================================\n",
      " conv2d_6 (Conv2D)           (None, 100, 100, 16)      160       \n",
      "                                                                 \n",
      " batch_normalization_3 (Batc  (None, 100, 100, 16)     64        \n",
      " hNormalization)                                                 \n",
      "                                                                 \n",
      " conv2d_7 (Conv2D)           (None, 100, 100, 128)     18560     \n",
      "                                                                 \n",
      " max_pooling2d_2 (MaxPooling  (None, 50, 50, 128)      0         \n",
      " 2D)                                                             \n",
      "                                                                 \n",
      " conv2d_8 (Conv2D)           (None, 50, 50, 96)        110688    \n",
      "                                                                 \n",
      " batch_normalization_4 (Batc  (None, 50, 50, 96)       384       \n",
      " hNormalization)                                                 \n",
      "                                                                 \n",
      " max_pooling2d_3 (MaxPooling  (None, 25, 25, 96)       0         \n",
      " 2D)                                                             \n",
      "                                                                 \n",
      " conv2d_9 (Conv2D)           (None, 25, 25, 40)        34600     \n",
      "                                                                 \n",
      " conv2d_10 (Conv2D)          (None, 25, 25, 208)       75088     \n",
      "                                                                 \n",
      " conv2d_11 (Conv2D)          (None, 25, 25, 104)       540904    \n",
      "                                                                 \n",
      " dropout_1 (Dropout)         (None, 25, 25, 104)       0         \n",
      "                                                                 \n",
      " flatten_2 (Flatten)         (None, 65000)             0         \n",
      "                                                                 \n",
      " dense_2 (Dense)             (None, 3)                 195003    \n",
      "                                                                 \n",
      "=================================================================\n",
      "Total params: 975,451\n",
      "Trainable params: 975,227\n",
      "Non-trainable params: 224\n",
      "_________________________________________________________________\n"
     ]
    }
   ],
   "source": [
    "hyper_model = hyper_tuner.hypermodel.build(best_hyper_hps)\n",
    "hyper_model.summary()"
   ]
  },
  {
   "cell_type": "code",
   "execution_count": 16,
   "metadata": {},
   "outputs": [
    {
     "name": "stdout",
     "output_type": "stream",
     "text": [
      "Model: \"sequential_3\"\n",
      "_________________________________________________________________\n",
      " Layer (type)                Output Shape              Param #   \n",
      "=================================================================\n",
      " conv2d_12 (Conv2D)          (None, 100, 100, 192)     4992      \n",
      "                                                                 \n",
      " batch_normalization_5 (Batc  (None, 100, 100, 192)    768       \n",
      " hNormalization)                                                 \n",
      "                                                                 \n",
      " conv2d_13 (Conv2D)          (None, 100, 100, 208)     359632    \n",
      "                                                                 \n",
      " batch_normalization_6 (Batc  (None, 100, 100, 208)    832       \n",
      " hNormalization)                                                 \n",
      "                                                                 \n",
      " flatten_3 (Flatten)         (None, 2080000)           0         \n",
      "                                                                 \n",
      " dense_3 (Dense)             (None, 3)                 6240003   \n",
      "                                                                 \n",
      "=================================================================\n",
      "Total params: 6,606,227\n",
      "Trainable params: 6,605,427\n",
      "Non-trainable params: 800\n",
      "_________________________________________________________________\n"
     ]
    }
   ],
   "source": [
    "bayes_model = bayes_tuner.hypermodel.build(best_bayes_hps)\n",
    "bayes_model.summary()"
   ]
  },
  {
   "cell_type": "markdown",
   "metadata": {},
   "source": [
    "### Entrenamiento de modelo optimizado"
   ]
  },
  {
   "cell_type": "code",
   "execution_count": 17,
   "metadata": {},
   "outputs": [
    {
     "name": "stdout",
     "output_type": "stream",
     "text": [
      "Epoch 1/100\n",
      "7/7 [==============================] - 1s 74ms/step - loss: 3.6029 - accuracy: 0.3524 - val_loss: 3.5483 - val_accuracy: 0.3333\n",
      "Epoch 2/100\n",
      "7/7 [==============================] - 0s 57ms/step - loss: 3.5845 - accuracy: 0.3286 - val_loss: 3.5033 - val_accuracy: 0.3333\n",
      "Epoch 3/100\n",
      "7/7 [==============================] - 0s 60ms/step - loss: 3.4942 - accuracy: 0.4238 - val_loss: 3.4554 - val_accuracy: 0.3000\n",
      "Epoch 4/100\n",
      "7/7 [==============================] - 0s 60ms/step - loss: 3.4325 - accuracy: 0.4000 - val_loss: 3.4055 - val_accuracy: 0.3333\n",
      "Epoch 5/100\n",
      "7/7 [==============================] - 0s 60ms/step - loss: 3.3729 - accuracy: 0.3810 - val_loss: 3.3542 - val_accuracy: 0.4000\n",
      "Epoch 6/100\n",
      "7/7 [==============================] - 0s 60ms/step - loss: 3.3172 - accuracy: 0.4143 - val_loss: 3.3032 - val_accuracy: 0.3000\n",
      "Epoch 7/100\n",
      "7/7 [==============================] - 0s 60ms/step - loss: 3.2648 - accuracy: 0.4381 - val_loss: 3.2510 - val_accuracy: 0.3333\n",
      "Epoch 8/100\n",
      "7/7 [==============================] - 0s 59ms/step - loss: 3.1945 - accuracy: 0.4238 - val_loss: 3.2018 - val_accuracy: 0.3000\n",
      "Epoch 9/100\n",
      "7/7 [==============================] - 0s 58ms/step - loss: 3.1474 - accuracy: 0.4333 - val_loss: 3.1520 - val_accuracy: 0.3000\n",
      "Epoch 10/100\n",
      "7/7 [==============================] - 0s 57ms/step - loss: 3.0999 - accuracy: 0.4667 - val_loss: 3.1031 - val_accuracy: 0.2333\n",
      "Epoch 11/100\n",
      "7/7 [==============================] - 1s 82ms/step - loss: 3.0404 - accuracy: 0.4667 - val_loss: 3.0544 - val_accuracy: 0.4000\n",
      "Epoch 12/100\n",
      "7/7 [==============================] - 0s 57ms/step - loss: 2.9788 - accuracy: 0.4857 - val_loss: 3.0100 - val_accuracy: 0.3333\n",
      "Epoch 13/100\n",
      "7/7 [==============================] - 1s 74ms/step - loss: 2.9169 - accuracy: 0.4762 - val_loss: 2.9668 - val_accuracy: 0.3000\n",
      "Epoch 14/100\n",
      "7/7 [==============================] - 0s 62ms/step - loss: 2.8897 - accuracy: 0.4238 - val_loss: 2.9193 - val_accuracy: 0.3333\n",
      "Epoch 15/100\n",
      "7/7 [==============================] - 0s 59ms/step - loss: 2.8390 - accuracy: 0.4619 - val_loss: 2.8759 - val_accuracy: 0.4000\n",
      "Epoch 16/100\n",
      "7/7 [==============================] - 0s 63ms/step - loss: 2.7937 - accuracy: 0.4476 - val_loss: 2.8395 - val_accuracy: 0.3000\n",
      "Epoch 17/100\n",
      "7/7 [==============================] - 0s 59ms/step - loss: 2.7474 - accuracy: 0.5238 - val_loss: 2.7921 - val_accuracy: 0.4000\n",
      "Epoch 18/100\n",
      "7/7 [==============================] - 0s 60ms/step - loss: 2.7303 - accuracy: 0.4667 - val_loss: 2.7600 - val_accuracy: 0.4000\n",
      "Epoch 19/100\n",
      "7/7 [==============================] - 0s 60ms/step - loss: 2.6673 - accuracy: 0.4286 - val_loss: 2.7177 - val_accuracy: 0.3667\n",
      "Epoch 20/100\n",
      "7/7 [==============================] - 0s 60ms/step - loss: 2.6504 - accuracy: 0.4762 - val_loss: 2.6830 - val_accuracy: 0.3667\n",
      "Epoch 21/100\n",
      "7/7 [==============================] - 0s 57ms/step - loss: 2.5909 - accuracy: 0.4952 - val_loss: 2.6493 - val_accuracy: 0.3000\n",
      "Epoch 22/100\n",
      "7/7 [==============================] - 0s 64ms/step - loss: 2.5523 - accuracy: 0.5000 - val_loss: 2.6097 - val_accuracy: 0.4667\n",
      "Epoch 23/100\n",
      "7/7 [==============================] - 0s 66ms/step - loss: 2.5070 - accuracy: 0.5095 - val_loss: 2.5608 - val_accuracy: 0.5000\n",
      "Epoch 24/100\n",
      "7/7 [==============================] - 0s 61ms/step - loss: 2.4793 - accuracy: 0.4524 - val_loss: 2.5326 - val_accuracy: 0.5667\n",
      "Epoch 25/100\n",
      "7/7 [==============================] - 0s 58ms/step - loss: 2.4539 - accuracy: 0.4762 - val_loss: 2.5004 - val_accuracy: 0.5667\n",
      "Epoch 26/100\n",
      "7/7 [==============================] - 0s 59ms/step - loss: 2.4173 - accuracy: 0.4762 - val_loss: 2.4693 - val_accuracy: 0.4333\n",
      "Epoch 27/100\n",
      "7/7 [==============================] - 0s 63ms/step - loss: 2.3580 - accuracy: 0.5190 - val_loss: 2.4460 - val_accuracy: 0.5333\n",
      "Epoch 28/100\n",
      "7/7 [==============================] - 0s 60ms/step - loss: 2.3532 - accuracy: 0.4667 - val_loss: 2.4205 - val_accuracy: 0.5333\n",
      "Epoch 29/100\n",
      "7/7 [==============================] - 0s 60ms/step - loss: 2.3061 - accuracy: 0.5190 - val_loss: 2.4087 - val_accuracy: 0.4333\n",
      "Epoch 30/100\n",
      "7/7 [==============================] - 0s 61ms/step - loss: 2.2753 - accuracy: 0.5381 - val_loss: 2.3649 - val_accuracy: 0.5333\n",
      "Epoch 31/100\n",
      "7/7 [==============================] - 0s 59ms/step - loss: 2.2749 - accuracy: 0.5048 - val_loss: 2.3189 - val_accuracy: 0.6333\n",
      "Epoch 32/100\n",
      "7/7 [==============================] - 0s 60ms/step - loss: 2.2592 - accuracy: 0.5048 - val_loss: 2.3206 - val_accuracy: 0.4333\n",
      "Epoch 33/100\n",
      "7/7 [==============================] - 0s 62ms/step - loss: 2.2081 - accuracy: 0.5190 - val_loss: 2.2915 - val_accuracy: 0.6000\n",
      "Epoch 34/100\n",
      "7/7 [==============================] - 0s 62ms/step - loss: 2.1754 - accuracy: 0.5381 - val_loss: 2.2505 - val_accuracy: 0.6333\n",
      "Epoch 35/100\n",
      "7/7 [==============================] - 0s 62ms/step - loss: 2.1613 - accuracy: 0.5048 - val_loss: 2.2515 - val_accuracy: 0.5000\n",
      "Epoch 36/100\n",
      "7/7 [==============================] - 0s 60ms/step - loss: 2.1451 - accuracy: 0.5048 - val_loss: 2.2296 - val_accuracy: 0.5000\n",
      "Epoch 37/100\n",
      "7/7 [==============================] - 0s 58ms/step - loss: 2.0851 - accuracy: 0.5238 - val_loss: 2.2073 - val_accuracy: 0.4333\n",
      "Epoch 38/100\n",
      "7/7 [==============================] - 0s 57ms/step - loss: 2.0796 - accuracy: 0.5238 - val_loss: 2.1700 - val_accuracy: 0.7000\n",
      "Epoch 39/100\n",
      "7/7 [==============================] - 0s 69ms/step - loss: 2.0419 - accuracy: 0.5762 - val_loss: 2.1316 - val_accuracy: 0.5333\n",
      "Epoch 40/100\n",
      "7/7 [==============================] - 0s 63ms/step - loss: 2.0015 - accuracy: 0.5429 - val_loss: 2.1151 - val_accuracy: 0.5667\n",
      "Epoch 41/100\n",
      "7/7 [==============================] - 0s 60ms/step - loss: 2.0153 - accuracy: 0.5238 - val_loss: 2.0965 - val_accuracy: 0.6333\n",
      "Epoch 42/100\n",
      "7/7 [==============================] - 0s 59ms/step - loss: 1.9856 - accuracy: 0.5714 - val_loss: 2.0838 - val_accuracy: 0.5000\n",
      "Epoch 43/100\n",
      "7/7 [==============================] - 0s 59ms/step - loss: 1.9665 - accuracy: 0.5524 - val_loss: 2.1035 - val_accuracy: 0.3000\n",
      "Epoch 44/100\n",
      "7/7 [==============================] - 0s 60ms/step - loss: 1.9342 - accuracy: 0.5238 - val_loss: 2.0539 - val_accuracy: 0.6000\n",
      "Epoch 45/100\n",
      "7/7 [==============================] - 1s 74ms/step - loss: 1.9220 - accuracy: 0.5619 - val_loss: 2.0451 - val_accuracy: 0.4000\n",
      "Epoch 46/100\n",
      "7/7 [==============================] - 0s 69ms/step - loss: 1.9526 - accuracy: 0.5000 - val_loss: 2.0107 - val_accuracy: 0.5333\n",
      "Epoch 47/100\n",
      "7/7 [==============================] - 0s 66ms/step - loss: 1.8780 - accuracy: 0.5619 - val_loss: 2.0202 - val_accuracy: 0.4667\n",
      "Epoch 48/100\n",
      "7/7 [==============================] - 0s 66ms/step - loss: 1.8733 - accuracy: 0.5286 - val_loss: 1.9569 - val_accuracy: 0.5667\n",
      "Epoch 49/100\n",
      "7/7 [==============================] - 0s 59ms/step - loss: 1.8564 - accuracy: 0.5857 - val_loss: 1.9909 - val_accuracy: 0.4667\n",
      "Epoch 50/100\n",
      "7/7 [==============================] - 0s 58ms/step - loss: 1.8799 - accuracy: 0.5476 - val_loss: 1.9279 - val_accuracy: 0.5000\n",
      "Epoch 51/100\n",
      "7/7 [==============================] - 0s 60ms/step - loss: 1.8036 - accuracy: 0.5476 - val_loss: 1.9265 - val_accuracy: 0.5000\n",
      "Epoch 52/100\n",
      "7/7 [==============================] - 0s 61ms/step - loss: 1.8027 - accuracy: 0.5381 - val_loss: 1.9033 - val_accuracy: 0.4667\n",
      "Epoch 53/100\n",
      "7/7 [==============================] - 0s 61ms/step - loss: 1.7721 - accuracy: 0.5762 - val_loss: 1.8807 - val_accuracy: 0.5667\n",
      "Epoch 54/100\n",
      "7/7 [==============================] - 0s 61ms/step - loss: 1.7668 - accuracy: 0.5810 - val_loss: 1.9158 - val_accuracy: 0.4333\n",
      "Epoch 55/100\n",
      "7/7 [==============================] - 0s 64ms/step - loss: 1.7819 - accuracy: 0.5190 - val_loss: 1.8592 - val_accuracy: 0.6333\n",
      "Epoch 56/100\n",
      "7/7 [==============================] - 0s 58ms/step - loss: 1.7346 - accuracy: 0.5667 - val_loss: 1.8048 - val_accuracy: 0.5000\n",
      "Epoch 57/100\n",
      "7/7 [==============================] - 0s 57ms/step - loss: 1.6541 - accuracy: 0.6381 - val_loss: 1.8042 - val_accuracy: 0.6333\n",
      "Epoch 58/100\n",
      "7/7 [==============================] - 1s 80ms/step - loss: 1.6886 - accuracy: 0.6143 - val_loss: 1.8447 - val_accuracy: 0.5000\n",
      "Epoch 59/100\n",
      "7/7 [==============================] - 0s 52ms/step - loss: 1.6802 - accuracy: 0.6190 - val_loss: 1.7902 - val_accuracy: 0.4000\n",
      "Epoch 60/100\n",
      "7/7 [==============================] - 1s 81ms/step - loss: 1.6817 - accuracy: 0.5667 - val_loss: 1.7407 - val_accuracy: 0.6333\n",
      "Epoch 61/100\n",
      "7/7 [==============================] - 0s 63ms/step - loss: 1.6513 - accuracy: 0.5810 - val_loss: 1.7689 - val_accuracy: 0.6333\n",
      "Epoch 62/100\n",
      "7/7 [==============================] - 0s 59ms/step - loss: 1.5995 - accuracy: 0.6095 - val_loss: 1.7923 - val_accuracy: 0.4000\n",
      "Epoch 63/100\n",
      "7/7 [==============================] - 0s 59ms/step - loss: 1.6125 - accuracy: 0.6190 - val_loss: 1.7203 - val_accuracy: 0.5667\n",
      "Epoch 64/100\n",
      "7/7 [==============================] - 0s 59ms/step - loss: 1.6410 - accuracy: 0.5810 - val_loss: 1.7523 - val_accuracy: 0.4667\n",
      "Epoch 65/100\n",
      "7/7 [==============================] - 0s 58ms/step - loss: 1.6339 - accuracy: 0.5810 - val_loss: 1.6519 - val_accuracy: 0.7000\n",
      "Epoch 66/100\n",
      "7/7 [==============================] - 0s 66ms/step - loss: 1.5743 - accuracy: 0.6000 - val_loss: 1.6793 - val_accuracy: 0.5333\n",
      "Epoch 67/100\n",
      "7/7 [==============================] - 0s 62ms/step - loss: 1.6160 - accuracy: 0.5143 - val_loss: 1.7097 - val_accuracy: 0.5667\n",
      "Epoch 68/100\n",
      "7/7 [==============================] - 0s 60ms/step - loss: 1.5589 - accuracy: 0.6000 - val_loss: 1.6269 - val_accuracy: 0.6000\n",
      "Epoch 69/100\n",
      "7/7 [==============================] - 0s 59ms/step - loss: 1.5820 - accuracy: 0.5714 - val_loss: 1.6609 - val_accuracy: 0.5667\n",
      "Epoch 70/100\n",
      "7/7 [==============================] - 0s 66ms/step - loss: 1.5603 - accuracy: 0.5810 - val_loss: 1.6626 - val_accuracy: 0.4667\n",
      "Epoch 71/100\n",
      "7/7 [==============================] - 0s 61ms/step - loss: 1.5059 - accuracy: 0.6143 - val_loss: 1.6912 - val_accuracy: 0.4667\n",
      "Epoch 72/100\n",
      "7/7 [==============================] - 0s 60ms/step - loss: 1.4653 - accuracy: 0.6571 - val_loss: 1.6394 - val_accuracy: 0.5000\n",
      "Epoch 73/100\n",
      "7/7 [==============================] - 0s 59ms/step - loss: 1.4779 - accuracy: 0.6000 - val_loss: 1.5915 - val_accuracy: 0.5333\n",
      "Epoch 74/100\n",
      "7/7 [==============================] - 0s 59ms/step - loss: 1.5087 - accuracy: 0.5857 - val_loss: 1.6115 - val_accuracy: 0.5000\n",
      "Epoch 75/100\n",
      "7/7 [==============================] - 1s 79ms/step - loss: 1.4717 - accuracy: 0.6143 - val_loss: 1.5830 - val_accuracy: 0.5333\n",
      "Epoch 76/100\n",
      "7/7 [==============================] - 0s 58ms/step - loss: 1.5339 - accuracy: 0.5333 - val_loss: 1.5443 - val_accuracy: 0.5333\n",
      "Epoch 77/100\n",
      "7/7 [==============================] - 1s 73ms/step - loss: 1.4506 - accuracy: 0.6333 - val_loss: 1.5637 - val_accuracy: 0.4667\n",
      "Epoch 78/100\n",
      "7/7 [==============================] - 1s 75ms/step - loss: 1.4900 - accuracy: 0.6381 - val_loss: 1.5169 - val_accuracy: 0.5667\n",
      "Epoch 79/100\n",
      "7/7 [==============================] - 0s 61ms/step - loss: 1.4672 - accuracy: 0.6000 - val_loss: 1.5583 - val_accuracy: 0.5333\n",
      "Epoch 80/100\n",
      "7/7 [==============================] - 0s 63ms/step - loss: 1.4291 - accuracy: 0.6429 - val_loss: 1.5790 - val_accuracy: 0.6000\n",
      "Epoch 81/100\n",
      "7/7 [==============================] - 0s 61ms/step - loss: 1.4220 - accuracy: 0.6381 - val_loss: 1.4756 - val_accuracy: 0.7667\n",
      "Epoch 82/100\n",
      "7/7 [==============================] - 0s 60ms/step - loss: 1.4240 - accuracy: 0.6000 - val_loss: 1.6108 - val_accuracy: 0.4667\n",
      "Epoch 83/100\n",
      "7/7 [==============================] - 0s 59ms/step - loss: 1.4038 - accuracy: 0.5905 - val_loss: 1.4597 - val_accuracy: 0.5333\n",
      "Epoch 84/100\n",
      "7/7 [==============================] - 0s 58ms/step - loss: 1.3876 - accuracy: 0.6333 - val_loss: 1.5986 - val_accuracy: 0.5000\n",
      "Epoch 85/100\n",
      "7/7 [==============================] - 0s 66ms/step - loss: 1.3501 - accuracy: 0.6333 - val_loss: 1.4372 - val_accuracy: 0.7000\n",
      "Epoch 86/100\n",
      "7/7 [==============================] - 0s 60ms/step - loss: 1.4009 - accuracy: 0.6048 - val_loss: 1.5431 - val_accuracy: 0.5000\n",
      "Epoch 87/100\n",
      "7/7 [==============================] - 0s 59ms/step - loss: 1.3541 - accuracy: 0.6333 - val_loss: 1.4933 - val_accuracy: 0.5000\n",
      "Epoch 88/100\n",
      "7/7 [==============================] - 0s 58ms/step - loss: 1.3344 - accuracy: 0.5714 - val_loss: 1.4348 - val_accuracy: 0.5333\n",
      "Epoch 89/100\n",
      "7/7 [==============================] - 0s 62ms/step - loss: 1.3397 - accuracy: 0.6143 - val_loss: 1.4805 - val_accuracy: 0.5667\n",
      "Epoch 90/100\n",
      "7/7 [==============================] - 0s 62ms/step - loss: 1.3138 - accuracy: 0.6524 - val_loss: 1.5276 - val_accuracy: 0.4333\n",
      "Epoch 91/100\n",
      "7/7 [==============================] - 0s 64ms/step - loss: 1.3679 - accuracy: 0.6429 - val_loss: 1.3865 - val_accuracy: 0.5333\n",
      "Epoch 92/100\n",
      "7/7 [==============================] - 0s 59ms/step - loss: 1.4062 - accuracy: 0.5667 - val_loss: 1.4177 - val_accuracy: 0.6000\n",
      "Epoch 93/100\n",
      "7/7 [==============================] - 0s 62ms/step - loss: 1.3837 - accuracy: 0.5857 - val_loss: 1.3725 - val_accuracy: 0.5667\n",
      "Epoch 94/100\n",
      "7/7 [==============================] - 0s 65ms/step - loss: 1.3616 - accuracy: 0.6048 - val_loss: 1.4546 - val_accuracy: 0.5333\n",
      "Epoch 95/100\n",
      "7/7 [==============================] - 0s 62ms/step - loss: 1.3138 - accuracy: 0.6667 - val_loss: 1.3868 - val_accuracy: 0.6333\n",
      "Epoch 96/100\n",
      "7/7 [==============================] - 0s 66ms/step - loss: 1.3241 - accuracy: 0.6190 - val_loss: 1.4539 - val_accuracy: 0.4667\n",
      "Epoch 97/100\n",
      "7/7 [==============================] - 0s 60ms/step - loss: 1.2945 - accuracy: 0.6238 - val_loss: 1.4066 - val_accuracy: 0.5333\n",
      "Epoch 98/100\n",
      "7/7 [==============================] - 0s 60ms/step - loss: 1.3285 - accuracy: 0.6857 - val_loss: 1.3517 - val_accuracy: 0.5667\n",
      "Epoch 99/100\n",
      "7/7 [==============================] - 0s 62ms/step - loss: 1.2927 - accuracy: 0.6238 - val_loss: 1.3526 - val_accuracy: 0.6333\n",
      "Epoch 100/100\n",
      "7/7 [==============================] - 0s 65ms/step - loss: 1.3242 - accuracy: 0.6333 - val_loss: 1.4147 - val_accuracy: 0.5000\n"
     ]
    },
    {
     "data": {
      "text/plain": [
       "<keras.callbacks.History at 0x273076184c0>"
      ]
     },
     "execution_count": 17,
     "metadata": {},
     "output_type": "execute_result"
    }
   ],
   "source": [
    "random_model.fit(train_generator, epochs=100, validation_data=valid_generator)"
   ]
  },
  {
   "cell_type": "code",
   "execution_count": 18,
   "metadata": {},
   "outputs": [
    {
     "name": "stdout",
     "output_type": "stream",
     "text": [
      "Epoch 1/100\n",
      "7/7 [==============================] - 1s 66ms/step - loss: 8.2991 - accuracy: 0.2810 - val_loss: 8.2376 - val_accuracy: 0.3667\n",
      "Epoch 2/100\n",
      "7/7 [==============================] - 0s 45ms/step - loss: 8.2660 - accuracy: 0.2810 - val_loss: 8.2371 - val_accuracy: 0.3667\n",
      "Epoch 3/100\n",
      "7/7 [==============================] - 0s 53ms/step - loss: 8.2615 - accuracy: 0.2905 - val_loss: 8.2375 - val_accuracy: 0.2333\n",
      "Epoch 4/100\n",
      "7/7 [==============================] - 0s 48ms/step - loss: 8.2467 - accuracy: 0.2905 - val_loss: 8.2367 - val_accuracy: 0.3000\n",
      "Epoch 5/100\n",
      "7/7 [==============================] - 0s 51ms/step - loss: 8.2620 - accuracy: 0.2952 - val_loss: 8.2373 - val_accuracy: 0.2333\n",
      "Epoch 6/100\n",
      "7/7 [==============================] - 0s 52ms/step - loss: 8.2589 - accuracy: 0.3000 - val_loss: 8.2363 - val_accuracy: 0.2000\n",
      "Epoch 7/100\n",
      "7/7 [==============================] - 0s 49ms/step - loss: 8.2221 - accuracy: 0.4000 - val_loss: 8.2362 - val_accuracy: 0.2667\n",
      "Epoch 8/100\n",
      "7/7 [==============================] - 0s 48ms/step - loss: 8.2439 - accuracy: 0.3381 - val_loss: 8.2359 - val_accuracy: 0.1667\n",
      "Epoch 9/100\n",
      "7/7 [==============================] - 0s 48ms/step - loss: 8.2418 - accuracy: 0.3190 - val_loss: 8.2358 - val_accuracy: 0.2333\n",
      "Epoch 10/100\n",
      "7/7 [==============================] - 0s 49ms/step - loss: 8.2358 - accuracy: 0.3810 - val_loss: 8.2356 - val_accuracy: 0.2333\n",
      "Epoch 11/100\n",
      "7/7 [==============================] - 0s 53ms/step - loss: 8.2596 - accuracy: 0.3333 - val_loss: 8.2336 - val_accuracy: 0.2333\n",
      "Epoch 12/100\n",
      "7/7 [==============================] - 0s 49ms/step - loss: 8.2420 - accuracy: 0.3524 - val_loss: 8.2351 - val_accuracy: 0.2333\n",
      "Epoch 13/100\n",
      "7/7 [==============================] - 0s 48ms/step - loss: 8.2439 - accuracy: 0.3714 - val_loss: 8.2339 - val_accuracy: 0.3333\n",
      "Epoch 14/100\n",
      "7/7 [==============================] - 0s 48ms/step - loss: 8.2453 - accuracy: 0.3667 - val_loss: 8.2313 - val_accuracy: 0.4333\n",
      "Epoch 15/100\n",
      "7/7 [==============================] - 0s 48ms/step - loss: 8.2568 - accuracy: 0.3238 - val_loss: 8.2308 - val_accuracy: 0.4667\n",
      "Epoch 16/100\n",
      "7/7 [==============================] - 0s 49ms/step - loss: 8.2516 - accuracy: 0.3476 - val_loss: 8.2333 - val_accuracy: 0.3333\n",
      "Epoch 17/100\n",
      "7/7 [==============================] - 0s 54ms/step - loss: 8.2229 - accuracy: 0.4095 - val_loss: 8.2324 - val_accuracy: 0.3000\n",
      "Epoch 18/100\n",
      "7/7 [==============================] - 0s 50ms/step - loss: 8.2428 - accuracy: 0.3238 - val_loss: 8.2344 - val_accuracy: 0.2333\n",
      "Epoch 19/100\n",
      "7/7 [==============================] - 0s 50ms/step - loss: 8.2545 - accuracy: 0.3286 - val_loss: 8.2316 - val_accuracy: 0.4000\n",
      "Epoch 20/100\n",
      "7/7 [==============================] - 0s 52ms/step - loss: 8.2331 - accuracy: 0.3476 - val_loss: 8.2328 - val_accuracy: 0.3667\n",
      "Epoch 21/100\n",
      "7/7 [==============================] - 0s 49ms/step - loss: 8.2328 - accuracy: 0.3857 - val_loss: 8.2322 - val_accuracy: 0.3000\n",
      "Epoch 22/100\n",
      "7/7 [==============================] - 0s 49ms/step - loss: 8.2213 - accuracy: 0.3619 - val_loss: 8.2312 - val_accuracy: 0.3000\n",
      "Epoch 23/100\n",
      "7/7 [==============================] - 0s 51ms/step - loss: 8.2573 - accuracy: 0.3095 - val_loss: 8.2308 - val_accuracy: 0.3000\n",
      "Epoch 24/100\n",
      "7/7 [==============================] - 0s 50ms/step - loss: 8.2329 - accuracy: 0.3762 - val_loss: 8.2279 - val_accuracy: 0.3667\n",
      "Epoch 25/100\n",
      "7/7 [==============================] - 0s 48ms/step - loss: 8.2294 - accuracy: 0.3952 - val_loss: 8.2288 - val_accuracy: 0.3333\n",
      "Epoch 26/100\n",
      "7/7 [==============================] - 0s 47ms/step - loss: 8.2147 - accuracy: 0.4048 - val_loss: 8.2313 - val_accuracy: 0.3667\n",
      "Epoch 27/100\n",
      "7/7 [==============================] - 0s 47ms/step - loss: 8.2447 - accuracy: 0.3333 - val_loss: 8.2301 - val_accuracy: 0.3667\n",
      "Epoch 28/100\n",
      "7/7 [==============================] - 0s 49ms/step - loss: 8.2066 - accuracy: 0.4190 - val_loss: 8.2286 - val_accuracy: 0.3333\n",
      "Epoch 29/100\n",
      "7/7 [==============================] - 0s 51ms/step - loss: 8.2266 - accuracy: 0.3524 - val_loss: 8.2291 - val_accuracy: 0.3333\n",
      "Epoch 30/100\n",
      "7/7 [==============================] - 0s 47ms/step - loss: 8.2391 - accuracy: 0.3000 - val_loss: 8.2292 - val_accuracy: 0.2667\n",
      "Epoch 31/100\n",
      "7/7 [==============================] - 0s 51ms/step - loss: 8.2337 - accuracy: 0.3286 - val_loss: 8.2284 - val_accuracy: 0.4333\n",
      "Epoch 32/100\n",
      "7/7 [==============================] - 0s 51ms/step - loss: 8.2463 - accuracy: 0.3286 - val_loss: 8.2241 - val_accuracy: 0.3667\n",
      "Epoch 33/100\n",
      "7/7 [==============================] - 0s 51ms/step - loss: 8.2052 - accuracy: 0.3857 - val_loss: 8.2256 - val_accuracy: 0.3667\n",
      "Epoch 34/100\n",
      "7/7 [==============================] - 0s 48ms/step - loss: 8.2161 - accuracy: 0.4095 - val_loss: 8.2235 - val_accuracy: 0.4000\n",
      "Epoch 35/100\n",
      "7/7 [==============================] - 0s 48ms/step - loss: 8.2324 - accuracy: 0.3619 - val_loss: 8.2216 - val_accuracy: 0.4333\n",
      "Epoch 36/100\n",
      "7/7 [==============================] - 0s 46ms/step - loss: 8.2182 - accuracy: 0.3714 - val_loss: 8.2224 - val_accuracy: 0.4000\n",
      "Epoch 37/100\n",
      "7/7 [==============================] - 0s 60ms/step - loss: 8.2278 - accuracy: 0.3571 - val_loss: 8.2285 - val_accuracy: 0.3000\n",
      "Epoch 38/100\n",
      "7/7 [==============================] - 0s 53ms/step - loss: 8.2331 - accuracy: 0.3381 - val_loss: 8.2256 - val_accuracy: 0.3000\n",
      "Epoch 39/100\n",
      "7/7 [==============================] - 0s 49ms/step - loss: 8.2098 - accuracy: 0.4333 - val_loss: 8.2239 - val_accuracy: 0.2667\n",
      "Epoch 40/100\n",
      "7/7 [==============================] - 0s 47ms/step - loss: 8.2085 - accuracy: 0.4000 - val_loss: 8.2263 - val_accuracy: 0.3667\n",
      "Epoch 41/100\n",
      "7/7 [==============================] - 0s 44ms/step - loss: 8.2257 - accuracy: 0.3333 - val_loss: 8.2233 - val_accuracy: 0.3000\n",
      "Epoch 42/100\n",
      "7/7 [==============================] - 0s 48ms/step - loss: 8.2312 - accuracy: 0.2952 - val_loss: 8.2237 - val_accuracy: 0.2667\n",
      "Epoch 43/100\n",
      "7/7 [==============================] - 0s 50ms/step - loss: 8.2014 - accuracy: 0.4429 - val_loss: 8.2224 - val_accuracy: 0.4000\n",
      "Epoch 44/100\n",
      "7/7 [==============================] - 0s 50ms/step - loss: 8.2129 - accuracy: 0.3810 - val_loss: 8.2184 - val_accuracy: 0.3333\n",
      "Epoch 45/100\n",
      "7/7 [==============================] - 0s 57ms/step - loss: 8.2086 - accuracy: 0.4286 - val_loss: 8.2282 - val_accuracy: 0.3333\n",
      "Epoch 46/100\n",
      "7/7 [==============================] - 0s 49ms/step - loss: 8.2173 - accuracy: 0.3667 - val_loss: 8.2224 - val_accuracy: 0.2667\n",
      "Epoch 47/100\n",
      "7/7 [==============================] - 0s 49ms/step - loss: 8.2105 - accuracy: 0.4286 - val_loss: 8.2186 - val_accuracy: 0.4000\n",
      "Epoch 48/100\n",
      "7/7 [==============================] - 0s 48ms/step - loss: 8.1962 - accuracy: 0.4524 - val_loss: 8.2117 - val_accuracy: 0.3667\n",
      "Epoch 49/100\n",
      "7/7 [==============================] - 0s 47ms/step - loss: 8.2017 - accuracy: 0.4381 - val_loss: 8.2187 - val_accuracy: 0.3000\n",
      "Epoch 50/100\n",
      "7/7 [==============================] - 0s 46ms/step - loss: 8.1958 - accuracy: 0.3524 - val_loss: 8.2215 - val_accuracy: 0.3000\n",
      "Epoch 51/100\n",
      "7/7 [==============================] - 0s 55ms/step - loss: 8.2037 - accuracy: 0.3810 - val_loss: 8.2185 - val_accuracy: 0.2667\n",
      "Epoch 52/100\n",
      "7/7 [==============================] - 0s 54ms/step - loss: 8.1910 - accuracy: 0.4000 - val_loss: 8.2251 - val_accuracy: 0.3333\n",
      "Epoch 53/100\n",
      "7/7 [==============================] - 0s 50ms/step - loss: 8.2181 - accuracy: 0.3524 - val_loss: 8.2097 - val_accuracy: 0.3667\n",
      "Epoch 54/100\n",
      "7/7 [==============================] - 0s 49ms/step - loss: 8.2054 - accuracy: 0.3857 - val_loss: 8.2183 - val_accuracy: 0.3333\n",
      "Epoch 55/100\n",
      "7/7 [==============================] - 0s 48ms/step - loss: 8.1958 - accuracy: 0.3905 - val_loss: 8.2061 - val_accuracy: 0.5000\n",
      "Epoch 56/100\n",
      "7/7 [==============================] - 0s 53ms/step - loss: 8.2065 - accuracy: 0.3810 - val_loss: 8.2135 - val_accuracy: 0.3667\n",
      "Epoch 57/100\n",
      "7/7 [==============================] - 0s 54ms/step - loss: 8.1992 - accuracy: 0.3667 - val_loss: 8.1916 - val_accuracy: 0.5667\n",
      "Epoch 58/100\n",
      "7/7 [==============================] - 0s 48ms/step - loss: 8.2032 - accuracy: 0.3714 - val_loss: 8.2015 - val_accuracy: 0.3667\n",
      "Epoch 59/100\n",
      "7/7 [==============================] - 0s 48ms/step - loss: 8.1825 - accuracy: 0.4762 - val_loss: 8.2045 - val_accuracy: 0.3667\n",
      "Epoch 60/100\n",
      "7/7 [==============================] - 0s 47ms/step - loss: 8.1992 - accuracy: 0.4143 - val_loss: 8.2105 - val_accuracy: 0.4667\n",
      "Epoch 61/100\n",
      "7/7 [==============================] - 0s 50ms/step - loss: 8.2038 - accuracy: 0.4143 - val_loss: 8.2152 - val_accuracy: 0.3667\n",
      "Epoch 62/100\n",
      "7/7 [==============================] - 0s 51ms/step - loss: 8.2036 - accuracy: 0.4048 - val_loss: 8.2153 - val_accuracy: 0.4333\n",
      "Epoch 63/100\n",
      "7/7 [==============================] - 0s 49ms/step - loss: 8.1945 - accuracy: 0.3905 - val_loss: 8.2076 - val_accuracy: 0.4000\n",
      "Epoch 64/100\n",
      "7/7 [==============================] - 0s 48ms/step - loss: 8.2178 - accuracy: 0.3905 - val_loss: 8.2037 - val_accuracy: 0.3333\n",
      "Epoch 65/100\n",
      "7/7 [==============================] - 0s 50ms/step - loss: 8.2000 - accuracy: 0.3714 - val_loss: 8.2186 - val_accuracy: 0.3667\n",
      "Epoch 66/100\n",
      "7/7 [==============================] - 0s 50ms/step - loss: 8.1824 - accuracy: 0.4524 - val_loss: 8.2063 - val_accuracy: 0.2667\n",
      "Epoch 67/100\n",
      "7/7 [==============================] - 0s 48ms/step - loss: 8.1774 - accuracy: 0.4524 - val_loss: 8.2148 - val_accuracy: 0.3000\n",
      "Epoch 68/100\n",
      "7/7 [==============================] - 0s 51ms/step - loss: 8.1972 - accuracy: 0.3810 - val_loss: 8.1912 - val_accuracy: 0.4333\n",
      "Epoch 69/100\n",
      "7/7 [==============================] - 0s 49ms/step - loss: 8.2069 - accuracy: 0.3476 - val_loss: 8.2118 - val_accuracy: 0.3667\n",
      "Epoch 70/100\n",
      "7/7 [==============================] - 0s 52ms/step - loss: 8.1955 - accuracy: 0.4095 - val_loss: 8.1975 - val_accuracy: 0.3333\n",
      "Epoch 71/100\n",
      "7/7 [==============================] - 0s 55ms/step - loss: 8.1794 - accuracy: 0.4714 - val_loss: 8.1956 - val_accuracy: 0.4333\n",
      "Epoch 72/100\n",
      "7/7 [==============================] - 0s 50ms/step - loss: 8.1980 - accuracy: 0.3667 - val_loss: 8.1887 - val_accuracy: 0.5000\n",
      "Epoch 73/100\n",
      "7/7 [==============================] - 0s 49ms/step - loss: 8.1787 - accuracy: 0.4238 - val_loss: 8.1771 - val_accuracy: 0.5000\n",
      "Epoch 74/100\n",
      "7/7 [==============================] - 0s 49ms/step - loss: 8.1818 - accuracy: 0.4667 - val_loss: 8.1877 - val_accuracy: 0.5333\n",
      "Epoch 75/100\n",
      "7/7 [==============================] - 0s 50ms/step - loss: 8.1946 - accuracy: 0.4333 - val_loss: 8.1779 - val_accuracy: 0.4000\n",
      "Epoch 76/100\n",
      "7/7 [==============================] - 0s 51ms/step - loss: 8.2013 - accuracy: 0.3810 - val_loss: 8.1918 - val_accuracy: 0.4667\n",
      "Epoch 77/100\n",
      "7/7 [==============================] - 0s 51ms/step - loss: 8.1821 - accuracy: 0.4619 - val_loss: 8.2064 - val_accuracy: 0.3333\n",
      "Epoch 78/100\n",
      "7/7 [==============================] - 0s 50ms/step - loss: 8.1830 - accuracy: 0.4190 - val_loss: 8.1730 - val_accuracy: 0.5667\n",
      "Epoch 79/100\n",
      "7/7 [==============================] - 0s 48ms/step - loss: 8.2022 - accuracy: 0.3857 - val_loss: 8.2085 - val_accuracy: 0.3333\n",
      "Epoch 80/100\n",
      "7/7 [==============================] - 0s 52ms/step - loss: 8.1658 - accuracy: 0.4571 - val_loss: 8.1730 - val_accuracy: 0.4000\n",
      "Epoch 81/100\n",
      "7/7 [==============================] - 0s 52ms/step - loss: 8.1726 - accuracy: 0.4571 - val_loss: 8.1965 - val_accuracy: 0.4333\n",
      "Epoch 82/100\n",
      "7/7 [==============================] - 0s 48ms/step - loss: 8.1757 - accuracy: 0.4524 - val_loss: 8.1713 - val_accuracy: 0.4667\n",
      "Epoch 83/100\n",
      "7/7 [==============================] - 0s 48ms/step - loss: 8.1817 - accuracy: 0.4429 - val_loss: 8.1931 - val_accuracy: 0.3667\n",
      "Epoch 84/100\n",
      "7/7 [==============================] - 0s 53ms/step - loss: 8.1837 - accuracy: 0.4286 - val_loss: 8.1435 - val_accuracy: 0.6333\n",
      "Epoch 85/100\n",
      "7/7 [==============================] - 0s 50ms/step - loss: 8.1658 - accuracy: 0.4476 - val_loss: 8.2124 - val_accuracy: 0.3000\n",
      "Epoch 86/100\n",
      "7/7 [==============================] - 0s 49ms/step - loss: 8.1766 - accuracy: 0.4381 - val_loss: 8.1647 - val_accuracy: 0.3667\n",
      "Epoch 87/100\n",
      "7/7 [==============================] - 0s 48ms/step - loss: 8.1832 - accuracy: 0.4286 - val_loss: 8.1748 - val_accuracy: 0.3667\n",
      "Epoch 88/100\n",
      "7/7 [==============================] - 0s 50ms/step - loss: 8.1808 - accuracy: 0.4238 - val_loss: 8.1638 - val_accuracy: 0.4667\n",
      "Epoch 89/100\n",
      "7/7 [==============================] - 0s 49ms/step - loss: 8.1694 - accuracy: 0.4238 - val_loss: 8.1662 - val_accuracy: 0.5000\n",
      "Epoch 90/100\n",
      "7/7 [==============================] - 0s 57ms/step - loss: 8.1864 - accuracy: 0.4429 - val_loss: 8.1847 - val_accuracy: 0.5000\n",
      "Epoch 91/100\n",
      "7/7 [==============================] - 0s 51ms/step - loss: 8.1783 - accuracy: 0.4667 - val_loss: 8.1497 - val_accuracy: 0.5000\n",
      "Epoch 92/100\n",
      "7/7 [==============================] - 0s 49ms/step - loss: 8.1596 - accuracy: 0.4905 - val_loss: 8.1970 - val_accuracy: 0.3333\n",
      "Epoch 93/100\n",
      "7/7 [==============================] - 0s 48ms/step - loss: 8.1728 - accuracy: 0.4333 - val_loss: 8.1803 - val_accuracy: 0.3667\n",
      "Epoch 94/100\n",
      "7/7 [==============================] - 0s 48ms/step - loss: 8.1953 - accuracy: 0.3857 - val_loss: 8.1825 - val_accuracy: 0.4000\n",
      "Epoch 95/100\n",
      "7/7 [==============================] - 0s 52ms/step - loss: 8.1630 - accuracy: 0.4333 - val_loss: 8.1725 - val_accuracy: 0.3000\n",
      "Epoch 96/100\n",
      "7/7 [==============================] - 0s 51ms/step - loss: 8.1629 - accuracy: 0.4095 - val_loss: 8.1599 - val_accuracy: 0.4000\n",
      "Epoch 97/100\n",
      "7/7 [==============================] - 0s 50ms/step - loss: 8.1770 - accuracy: 0.3952 - val_loss: 8.1603 - val_accuracy: 0.3333\n",
      "Epoch 98/100\n",
      "7/7 [==============================] - 0s 48ms/step - loss: 8.1724 - accuracy: 0.4095 - val_loss: 8.1507 - val_accuracy: 0.4333\n",
      "Epoch 99/100\n",
      "7/7 [==============================] - 0s 47ms/step - loss: 8.1524 - accuracy: 0.4857 - val_loss: 8.1302 - val_accuracy: 0.5333\n",
      "Epoch 100/100\n",
      "7/7 [==============================] - 0s 52ms/step - loss: 8.1785 - accuracy: 0.4190 - val_loss: 8.1962 - val_accuracy: 0.2667\n"
     ]
    },
    {
     "data": {
      "text/plain": [
       "<keras.callbacks.History at 0x272ed3c18e0>"
      ]
     },
     "execution_count": 18,
     "metadata": {},
     "output_type": "execute_result"
    }
   ],
   "source": [
    "hyper_model.fit(train_generator, epochs=100, validation_data=valid_generator)"
   ]
  },
  {
   "cell_type": "code",
   "execution_count": 19,
   "metadata": {},
   "outputs": [
    {
     "name": "stdout",
     "output_type": "stream",
     "text": [
      "Epoch 1/100\n",
      "7/7 [==============================] - 1s 136ms/step - loss: 2190.2180 - accuracy: 0.3524 - val_loss: 11567.2412 - val_accuracy: 0.3000\n",
      "Epoch 2/100\n",
      "7/7 [==============================] - 1s 119ms/step - loss: 2431.7002 - accuracy: 0.3619 - val_loss: 29331.5410 - val_accuracy: 0.3333\n",
      "Epoch 3/100\n",
      "7/7 [==============================] - 1s 125ms/step - loss: 2662.9062 - accuracy: 0.4000 - val_loss: 11554.3916 - val_accuracy: 0.3333\n",
      "Epoch 4/100\n",
      "7/7 [==============================] - 1s 130ms/step - loss: 2645.9116 - accuracy: 0.3952 - val_loss: 5603.0781 - val_accuracy: 0.2333\n",
      "Epoch 5/100\n",
      "7/7 [==============================] - 1s 121ms/step - loss: 2078.2742 - accuracy: 0.4429 - val_loss: 9760.2627 - val_accuracy: 0.3333\n",
      "Epoch 6/100\n",
      "7/7 [==============================] - 1s 152ms/step - loss: 1783.7815 - accuracy: 0.4381 - val_loss: 6693.3276 - val_accuracy: 0.3667\n",
      "Epoch 7/100\n",
      "7/7 [==============================] - 1s 135ms/step - loss: 2222.3970 - accuracy: 0.3667 - val_loss: 2075.0833 - val_accuracy: 0.3667\n",
      "Epoch 8/100\n",
      "7/7 [==============================] - 1s 132ms/step - loss: 1729.2275 - accuracy: 0.3857 - val_loss: 7023.2324 - val_accuracy: 0.3333\n",
      "Epoch 9/100\n",
      "7/7 [==============================] - 1s 118ms/step - loss: 1407.5435 - accuracy: 0.4286 - val_loss: 2971.5322 - val_accuracy: 0.3333\n",
      "Epoch 10/100\n",
      "7/7 [==============================] - 1s 121ms/step - loss: 1514.6512 - accuracy: 0.3810 - val_loss: 3418.1292 - val_accuracy: 0.3667\n",
      "Epoch 11/100\n",
      "7/7 [==============================] - 1s 126ms/step - loss: 1475.3085 - accuracy: 0.3476 - val_loss: 3804.1802 - val_accuracy: 0.3333\n",
      "Epoch 12/100\n",
      "7/7 [==============================] - 1s 135ms/step - loss: 1366.3265 - accuracy: 0.4238 - val_loss: 1626.0139 - val_accuracy: 0.4667\n",
      "Epoch 13/100\n",
      "7/7 [==============================] - 1s 119ms/step - loss: 1180.4805 - accuracy: 0.4095 - val_loss: 1938.7430 - val_accuracy: 0.3667\n",
      "Epoch 14/100\n",
      "7/7 [==============================] - 1s 124ms/step - loss: 923.2382 - accuracy: 0.4667 - val_loss: 1184.2756 - val_accuracy: 0.3667\n",
      "Epoch 15/100\n",
      "7/7 [==============================] - 1s 121ms/step - loss: 650.8010 - accuracy: 0.4333 - val_loss: 890.8641 - val_accuracy: 0.3000\n",
      "Epoch 16/100\n",
      "7/7 [==============================] - 1s 117ms/step - loss: 749.9008 - accuracy: 0.3810 - val_loss: 783.1793 - val_accuracy: 0.4000\n",
      "Epoch 17/100\n",
      "7/7 [==============================] - 1s 126ms/step - loss: 715.9297 - accuracy: 0.3667 - val_loss: 997.1903 - val_accuracy: 0.3333\n",
      "Epoch 18/100\n",
      "7/7 [==============================] - 1s 117ms/step - loss: 512.2340 - accuracy: 0.5000 - val_loss: 419.4907 - val_accuracy: 0.4667\n",
      "Epoch 19/100\n",
      "7/7 [==============================] - 1s 125ms/step - loss: 513.5580 - accuracy: 0.4667 - val_loss: 514.2347 - val_accuracy: 0.3333\n",
      "Epoch 20/100\n",
      "7/7 [==============================] - 1s 126ms/step - loss: 374.6307 - accuracy: 0.3810 - val_loss: 425.6615 - val_accuracy: 0.3333\n",
      "Epoch 21/100\n",
      "7/7 [==============================] - 1s 116ms/step - loss: 254.0408 - accuracy: 0.4095 - val_loss: 272.8414 - val_accuracy: 0.3333\n",
      "Epoch 22/100\n",
      "7/7 [==============================] - 1s 124ms/step - loss: 295.1797 - accuracy: 0.3476 - val_loss: 349.1010 - val_accuracy: 0.4000\n",
      "Epoch 23/100\n",
      "7/7 [==============================] - 1s 119ms/step - loss: 378.9090 - accuracy: 0.3810 - val_loss: 335.8587 - val_accuracy: 0.3000\n",
      "Epoch 24/100\n",
      "7/7 [==============================] - 1s 119ms/step - loss: 340.8245 - accuracy: 0.4000 - val_loss: 530.2212 - val_accuracy: 0.3333\n",
      "Epoch 25/100\n",
      "7/7 [==============================] - 1s 124ms/step - loss: 372.4560 - accuracy: 0.3905 - val_loss: 596.7627 - val_accuracy: 0.3667\n",
      "Epoch 26/100\n",
      "7/7 [==============================] - 1s 120ms/step - loss: 285.9591 - accuracy: 0.3905 - val_loss: 557.7913 - val_accuracy: 0.3667\n",
      "Epoch 27/100\n",
      "7/7 [==============================] - 1s 116ms/step - loss: 215.0940 - accuracy: 0.4048 - val_loss: 320.3964 - val_accuracy: 0.3333\n",
      "Epoch 28/100\n",
      "7/7 [==============================] - 1s 124ms/step - loss: 142.0653 - accuracy: 0.4571 - val_loss: 243.7064 - val_accuracy: 0.3333\n",
      "Epoch 29/100\n",
      "7/7 [==============================] - 1s 128ms/step - loss: 124.9832 - accuracy: 0.4381 - val_loss: 235.7723 - val_accuracy: 0.3333\n",
      "Epoch 30/100\n",
      "7/7 [==============================] - 1s 126ms/step - loss: 123.9924 - accuracy: 0.3952 - val_loss: 131.7687 - val_accuracy: 0.4333\n",
      "Epoch 31/100\n",
      "7/7 [==============================] - 1s 129ms/step - loss: 125.0555 - accuracy: 0.4667 - val_loss: 119.7933 - val_accuracy: 0.4000\n",
      "Epoch 32/100\n",
      "7/7 [==============================] - 1s 117ms/step - loss: 93.1303 - accuracy: 0.4762 - val_loss: 153.0492 - val_accuracy: 0.3333\n",
      "Epoch 33/100\n",
      "7/7 [==============================] - 1s 121ms/step - loss: 97.0185 - accuracy: 0.4190 - val_loss: 203.4980 - val_accuracy: 0.3333\n",
      "Epoch 34/100\n",
      "7/7 [==============================] - 1s 126ms/step - loss: 112.8093 - accuracy: 0.3619 - val_loss: 182.2108 - val_accuracy: 0.3667\n",
      "Epoch 35/100\n",
      "7/7 [==============================] - 1s 118ms/step - loss: 102.7806 - accuracy: 0.4190 - val_loss: 151.7975 - val_accuracy: 0.3667\n",
      "Epoch 36/100\n",
      "7/7 [==============================] - 1s 122ms/step - loss: 151.6622 - accuracy: 0.3429 - val_loss: 184.4937 - val_accuracy: 0.3000\n",
      "Epoch 37/100\n",
      "7/7 [==============================] - 1s 118ms/step - loss: 107.5563 - accuracy: 0.3238 - val_loss: 160.1266 - val_accuracy: 0.3333\n",
      "Epoch 38/100\n",
      "7/7 [==============================] - 1s 123ms/step - loss: 118.7544 - accuracy: 0.3571 - val_loss: 176.1891 - val_accuracy: 0.3333\n",
      "Epoch 39/100\n",
      "7/7 [==============================] - 1s 118ms/step - loss: 84.7096 - accuracy: 0.3905 - val_loss: 186.6139 - val_accuracy: 0.3333\n",
      "Epoch 40/100\n",
      "7/7 [==============================] - 1s 123ms/step - loss: 95.5797 - accuracy: 0.4429 - val_loss: 182.8389 - val_accuracy: 0.3333\n",
      "Epoch 41/100\n",
      "7/7 [==============================] - 1s 118ms/step - loss: 126.1980 - accuracy: 0.3619 - val_loss: 236.0269 - val_accuracy: 0.3333\n",
      "Epoch 42/100\n",
      "7/7 [==============================] - 1s 125ms/step - loss: 77.0362 - accuracy: 0.4857 - val_loss: 211.3476 - val_accuracy: 0.3333\n",
      "Epoch 43/100\n",
      "7/7 [==============================] - 1s 125ms/step - loss: 62.9822 - accuracy: 0.5238 - val_loss: 185.0978 - val_accuracy: 0.3667\n",
      "Epoch 44/100\n",
      "7/7 [==============================] - 1s 123ms/step - loss: 87.9474 - accuracy: 0.4000 - val_loss: 246.8902 - val_accuracy: 0.3333\n",
      "Epoch 45/100\n",
      "7/7 [==============================] - 1s 116ms/step - loss: 81.3156 - accuracy: 0.4286 - val_loss: 209.2030 - val_accuracy: 0.3333\n",
      "Epoch 46/100\n",
      "7/7 [==============================] - 1s 127ms/step - loss: 76.2313 - accuracy: 0.4190 - val_loss: 116.2202 - val_accuracy: 0.3333\n",
      "Epoch 47/100\n",
      "7/7 [==============================] - 1s 119ms/step - loss: 79.8825 - accuracy: 0.4619 - val_loss: 134.7340 - val_accuracy: 0.3333\n",
      "Epoch 48/100\n",
      "7/7 [==============================] - 1s 119ms/step - loss: 71.1291 - accuracy: 0.4238 - val_loss: 120.4047 - val_accuracy: 0.4000\n",
      "Epoch 49/100\n",
      "7/7 [==============================] - 1s 114ms/step - loss: 57.2469 - accuracy: 0.4619 - val_loss: 126.6066 - val_accuracy: 0.3667\n",
      "Epoch 50/100\n",
      "7/7 [==============================] - 1s 138ms/step - loss: 79.8352 - accuracy: 0.3857 - val_loss: 108.3312 - val_accuracy: 0.2333\n",
      "Epoch 51/100\n",
      "7/7 [==============================] - 1s 121ms/step - loss: 72.0077 - accuracy: 0.4000 - val_loss: 89.0988 - val_accuracy: 0.4000\n",
      "Epoch 52/100\n",
      "7/7 [==============================] - 1s 125ms/step - loss: 62.7287 - accuracy: 0.4476 - val_loss: 94.4341 - val_accuracy: 0.3667\n",
      "Epoch 53/100\n",
      "7/7 [==============================] - 1s 127ms/step - loss: 73.4357 - accuracy: 0.4095 - val_loss: 100.7383 - val_accuracy: 0.3333\n",
      "Epoch 54/100\n",
      "7/7 [==============================] - 1s 117ms/step - loss: 62.3274 - accuracy: 0.4333 - val_loss: 100.6768 - val_accuracy: 0.2667\n",
      "Epoch 55/100\n",
      "7/7 [==============================] - 1s 125ms/step - loss: 66.6780 - accuracy: 0.3619 - val_loss: 134.8517 - val_accuracy: 0.3667\n",
      "Epoch 56/100\n",
      "7/7 [==============================] - 1s 119ms/step - loss: 89.6643 - accuracy: 0.3762 - val_loss: 152.3122 - val_accuracy: 0.4667\n",
      "Epoch 57/100\n",
      "7/7 [==============================] - 1s 129ms/step - loss: 77.5460 - accuracy: 0.3619 - val_loss: 129.5766 - val_accuracy: 0.3333\n",
      "Epoch 58/100\n",
      "7/7 [==============================] - 1s 119ms/step - loss: 68.9193 - accuracy: 0.4238 - val_loss: 96.9417 - val_accuracy: 0.3667\n",
      "Epoch 59/100\n",
      "7/7 [==============================] - 1s 126ms/step - loss: 63.7501 - accuracy: 0.4476 - val_loss: 109.2110 - val_accuracy: 0.3667\n",
      "Epoch 60/100\n",
      "7/7 [==============================] - 1s 119ms/step - loss: 64.2814 - accuracy: 0.3952 - val_loss: 183.9060 - val_accuracy: 0.3333\n",
      "Epoch 61/100\n",
      "7/7 [==============================] - 1s 120ms/step - loss: 63.5285 - accuracy: 0.3905 - val_loss: 221.6168 - val_accuracy: 0.3333\n",
      "Epoch 62/100\n",
      "7/7 [==============================] - 1s 121ms/step - loss: 47.4826 - accuracy: 0.4190 - val_loss: 205.7684 - val_accuracy: 0.3333\n",
      "Epoch 63/100\n",
      "7/7 [==============================] - 1s 118ms/step - loss: 45.5502 - accuracy: 0.4619 - val_loss: 187.5762 - val_accuracy: 0.3333\n",
      "Epoch 64/100\n",
      "7/7 [==============================] - 1s 128ms/step - loss: 39.2390 - accuracy: 0.4476 - val_loss: 131.5371 - val_accuracy: 0.3333\n",
      "Epoch 65/100\n",
      "7/7 [==============================] - 1s 118ms/step - loss: 36.4044 - accuracy: 0.4286 - val_loss: 139.4962 - val_accuracy: 0.3333\n",
      "Epoch 66/100\n",
      "7/7 [==============================] - 1s 124ms/step - loss: 36.4194 - accuracy: 0.4333 - val_loss: 89.8651 - val_accuracy: 0.3333\n",
      "Epoch 67/100\n",
      "7/7 [==============================] - 1s 116ms/step - loss: 44.9474 - accuracy: 0.4238 - val_loss: 92.6908 - val_accuracy: 0.3667\n",
      "Epoch 68/100\n",
      "7/7 [==============================] - 1s 128ms/step - loss: 42.6643 - accuracy: 0.3714 - val_loss: 77.4160 - val_accuracy: 0.3333\n",
      "Epoch 69/100\n",
      "7/7 [==============================] - 1s 126ms/step - loss: 35.6093 - accuracy: 0.4667 - val_loss: 42.7942 - val_accuracy: 0.3667\n",
      "Epoch 70/100\n",
      "7/7 [==============================] - 1s 115ms/step - loss: 33.6566 - accuracy: 0.4333 - val_loss: 57.5724 - val_accuracy: 0.2667\n",
      "Epoch 71/100\n",
      "7/7 [==============================] - 1s 122ms/step - loss: 47.8200 - accuracy: 0.4000 - val_loss: 141.1227 - val_accuracy: 0.3333\n",
      "Epoch 72/100\n",
      "7/7 [==============================] - 1s 121ms/step - loss: 60.6847 - accuracy: 0.3667 - val_loss: 147.4516 - val_accuracy: 0.3333\n",
      "Epoch 73/100\n",
      "7/7 [==============================] - 1s 128ms/step - loss: 46.2665 - accuracy: 0.3952 - val_loss: 85.3106 - val_accuracy: 0.3333\n",
      "Epoch 74/100\n",
      "7/7 [==============================] - 1s 121ms/step - loss: 39.2199 - accuracy: 0.4619 - val_loss: 60.7984 - val_accuracy: 0.3333\n",
      "Epoch 75/100\n",
      "7/7 [==============================] - 1s 124ms/step - loss: 34.6133 - accuracy: 0.3619 - val_loss: 59.7674 - val_accuracy: 0.3333\n",
      "Epoch 76/100\n",
      "7/7 [==============================] - 1s 121ms/step - loss: 37.3438 - accuracy: 0.4048 - val_loss: 444.1192 - val_accuracy: 0.3333\n",
      "Epoch 77/100\n",
      "7/7 [==============================] - 1s 120ms/step - loss: 37.3601 - accuracy: 0.4048 - val_loss: 215.3828 - val_accuracy: 0.3667\n",
      "Epoch 78/100\n",
      "7/7 [==============================] - 1s 121ms/step - loss: 52.7464 - accuracy: 0.3667 - val_loss: 175.6761 - val_accuracy: 0.3333\n",
      "Epoch 79/100\n",
      "7/7 [==============================] - 1s 121ms/step - loss: 42.0055 - accuracy: 0.4095 - val_loss: 129.3971 - val_accuracy: 0.3333\n",
      "Epoch 80/100\n",
      "7/7 [==============================] - 1s 121ms/step - loss: 39.1233 - accuracy: 0.4381 - val_loss: 66.4373 - val_accuracy: 0.4000\n",
      "Epoch 81/100\n",
      "7/7 [==============================] - 1s 121ms/step - loss: 29.1311 - accuracy: 0.4476 - val_loss: 103.5459 - val_accuracy: 0.3333\n",
      "Epoch 82/100\n",
      "7/7 [==============================] - 1s 120ms/step - loss: 35.8181 - accuracy: 0.4143 - val_loss: 79.0579 - val_accuracy: 0.3000\n",
      "Epoch 83/100\n",
      "7/7 [==============================] - 1s 121ms/step - loss: 41.2335 - accuracy: 0.4429 - val_loss: 83.4966 - val_accuracy: 0.3333\n",
      "Epoch 84/100\n",
      "7/7 [==============================] - 1s 127ms/step - loss: 43.1619 - accuracy: 0.4238 - val_loss: 40.3815 - val_accuracy: 0.3000\n",
      "Epoch 85/100\n",
      "7/7 [==============================] - 1s 120ms/step - loss: 36.9444 - accuracy: 0.3857 - val_loss: 25.4069 - val_accuracy: 0.4000\n",
      "Epoch 86/100\n",
      "7/7 [==============================] - 1s 126ms/step - loss: 26.1953 - accuracy: 0.4429 - val_loss: 32.3323 - val_accuracy: 0.2333\n",
      "Epoch 87/100\n",
      "7/7 [==============================] - 1s 120ms/step - loss: 28.4613 - accuracy: 0.4476 - val_loss: 42.8284 - val_accuracy: 0.3333\n",
      "Epoch 88/100\n",
      "7/7 [==============================] - 1s 128ms/step - loss: 25.0928 - accuracy: 0.4190 - val_loss: 36.6859 - val_accuracy: 0.4000\n",
      "Epoch 89/100\n",
      "7/7 [==============================] - 1s 123ms/step - loss: 27.3947 - accuracy: 0.4190 - val_loss: 23.0070 - val_accuracy: 0.4000\n",
      "Epoch 90/100\n",
      "7/7 [==============================] - 1s 123ms/step - loss: 22.3146 - accuracy: 0.4762 - val_loss: 827.1408 - val_accuracy: 0.3333\n",
      "Epoch 91/100\n",
      "7/7 [==============================] - 1s 122ms/step - loss: 34.0803 - accuracy: 0.3524 - val_loss: 308.2061 - val_accuracy: 0.3333\n",
      "Epoch 92/100\n",
      "7/7 [==============================] - 1s 118ms/step - loss: 39.5420 - accuracy: 0.4571 - val_loss: 143.8799 - val_accuracy: 0.3333\n",
      "Epoch 93/100\n",
      "7/7 [==============================] - 1s 120ms/step - loss: 26.9598 - accuracy: 0.4524 - val_loss: 91.5326 - val_accuracy: 0.3333\n",
      "Epoch 94/100\n",
      "7/7 [==============================] - 1s 121ms/step - loss: 29.9744 - accuracy: 0.3952 - val_loss: 125.3897 - val_accuracy: 0.3667\n",
      "Epoch 95/100\n",
      "7/7 [==============================] - 1s 126ms/step - loss: 27.4587 - accuracy: 0.4048 - val_loss: 116.9335 - val_accuracy: 0.3333\n",
      "Epoch 96/100\n",
      "7/7 [==============================] - 1s 119ms/step - loss: 31.0763 - accuracy: 0.4333 - val_loss: 67.3171 - val_accuracy: 0.3667\n",
      "Epoch 97/100\n",
      "7/7 [==============================] - 1s 120ms/step - loss: 28.5174 - accuracy: 0.4286 - val_loss: 73.5567 - val_accuracy: 0.3333\n",
      "Epoch 98/100\n",
      "7/7 [==============================] - 1s 121ms/step - loss: 27.0087 - accuracy: 0.4476 - val_loss: 102.7454 - val_accuracy: 0.3333\n",
      "Epoch 99/100\n",
      "7/7 [==============================] - 1s 119ms/step - loss: 32.5489 - accuracy: 0.4571 - val_loss: 192.2896 - val_accuracy: 0.3333\n",
      "Epoch 100/100\n",
      "7/7 [==============================] - 1s 125ms/step - loss: 34.2571 - accuracy: 0.3762 - val_loss: 81.5605 - val_accuracy: 0.4000\n"
     ]
    },
    {
     "data": {
      "text/plain": [
       "<keras.callbacks.History at 0x27483f6c430>"
      ]
     },
     "execution_count": 19,
     "metadata": {},
     "output_type": "execute_result"
    }
   ],
   "source": [
    "bayes_model.fit(train_generator, epochs=100, validation_data=valid_generator)"
   ]
  },
  {
   "cell_type": "markdown",
   "metadata": {},
   "source": [
    "### Evaluacion del Modelo Final"
   ]
  },
  {
   "cell_type": "code",
   "execution_count": 20,
   "metadata": {},
   "outputs": [
    {
     "name": "stdout",
     "output_type": "stream",
     "text": [
      "2/2 [==============================] - 0s 355ms/step - loss: 1.5897 - accuracy: 0.4500\n",
      "loss: 1.5896732807159424\n",
      "accuracy: 0.44999998807907104\n"
     ]
    }
   ],
   "source": [
    "random_eval_result = random_model.evaluate(test_generator)\n",
    "for metric, value in zip(random_model.metrics_names, random_eval_result):\n",
    "    print(f'{metric}: {value}')"
   ]
  },
  {
   "cell_type": "code",
   "execution_count": 21,
   "metadata": {},
   "outputs": [
    {
     "name": "stdout",
     "output_type": "stream",
     "text": [
      "2/2 [==============================] - 0s 372ms/step - loss: 8.1829 - accuracy: 0.4000\n",
      "loss: 8.182923316955566\n",
      "accuracy: 0.4000000059604645\n"
     ]
    }
   ],
   "source": [
    "hyper_eval_result = hyper_model.evaluate(test_generator)\n",
    "for metric, value in zip(hyper_model.metrics_names, hyper_eval_result):\n",
    "    print(f'{metric}: {value}')"
   ]
  },
  {
   "cell_type": "code",
   "execution_count": 22,
   "metadata": {},
   "outputs": [
    {
     "name": "stdout",
     "output_type": "stream",
     "text": [
      "2/2 [==============================] - 1s 1s/step - loss: 87.4278 - accuracy: 0.3333\n",
      "loss: 87.42784118652344\n",
      "accuracy: 0.3333333432674408\n"
     ]
    }
   ],
   "source": [
    "bayes_eval_result = bayes_model.evaluate(test_generator)\n",
    "for metric, value in zip(bayes_model.metrics_names, bayes_eval_result):\n",
    "    print(f'{metric}: {value}')"
   ]
  }
 ],
 "metadata": {
  "kernelspec": {
   "display_name": "tf-gpu",
   "language": "python",
   "name": "python3"
  },
  "language_info": {
   "codemirror_mode": {
    "name": "ipython",
    "version": 3
   },
   "file_extension": ".py",
   "mimetype": "text/x-python",
   "name": "python",
   "nbconvert_exporter": "python",
   "pygments_lexer": "ipython3",
   "version": "3.9.19"
  }
 },
 "nbformat": 4,
 "nbformat_minor": 2
}
